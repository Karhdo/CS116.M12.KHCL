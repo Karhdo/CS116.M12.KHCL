{
  "nbformat": 4,
  "nbformat_minor": 0,
  "metadata": {
    "colab": {
      "name": "Cassification_Social_Network_Ads.ipynb",
      "provenance": [],
      "collapsed_sections": []
    },
    "kernelspec": {
      "display_name": "Python 3",
      "name": "python3"
    },
    "language_info": {
      "name": "python"
    }
  },
  "cells": [
    {
      "cell_type": "markdown",
      "metadata": {
        "id": "seW8khXx1pMJ"
      },
      "source": [
        "<h1 align='center'>Đỗ Trọng Khánh - 19521676</h1>"
      ]
    },
    {
      "cell_type": "markdown",
      "metadata": {
        "id": "mqhQFi5g03kM"
      },
      "source": [
        "<h1 align='center'>Cassification Social Network Ads</h1>"
      ]
    },
    {
      "cell_type": "markdown",
      "metadata": {
        "id": "qHwARiCr1Myc"
      },
      "source": [
        "- Bước 1: Đọc dữ liệu từ file .csv\n",
        "- Bước 2: Phân chia dữ liệu thành tập train và tập test theo tỉ lệ 8:2\n",
        "- Bước 3: Chuẩn hóa dữ liệu\n",
        "- Bước 4: Khởi tạo và huấn luyện các mô hình\n",
        "- Bước 5: Infer và đánh giá mô hình với độ đo accuracy\n",
        "- Bước 6: Trực quan hóa kết quả của mô hình vừa huấn luyện"
      ]
    },
    {
      "cell_type": "markdown",
      "metadata": {
        "id": "40hw1dJwO7Et"
      },
      "source": [
        "# Connect Driver"
      ]
    },
    {
      "cell_type": "code",
      "metadata": {
        "colab": {
          "base_uri": "https://localhost:8080/"
        },
        "id": "MO84crKzOd8I",
        "outputId": "9bdc50e3-f12f-4043-a659-3463f2d3bdaa"
      },
      "source": [
        "from google.colab import drive\n",
        "drive.mount('/gdrive')"
      ],
      "execution_count": 78,
      "outputs": [
        {
          "output_type": "stream",
          "name": "stdout",
          "text": [
            "Drive already mounted at /gdrive; to attempt to forcibly remount, call drive.mount(\"/gdrive\", force_remount=True).\n"
          ]
        }
      ]
    },
    {
      "cell_type": "markdown",
      "metadata": {
        "id": "szodd_2RPgZ7"
      },
      "source": [
        "# Import Libary"
      ]
    },
    {
      "cell_type": "code",
      "metadata": {
        "id": "RqLHdbwDPjH6"
      },
      "source": [
        "import pandas as pd\n",
        "import numpy as np\n",
        "from pandas import DataFrame\n",
        "from sklearn.preprocessing import StandardScaler\n",
        "from sklearn.metrics import accuracy_score, classification_report\n",
        "import matplotlib.pyplot as plt"
      ],
      "execution_count": 79,
      "outputs": []
    },
    {
      "cell_type": "markdown",
      "metadata": {
        "id": "b1ZpdpfoPSsv"
      },
      "source": [
        "# Prepare Data"
      ]
    },
    {
      "cell_type": "code",
      "metadata": {
        "id": "le_CJv1kPeof"
      },
      "source": [
        "data_link = '/gdrive/MyDrive/Colab Notebooks/Lập trình Python cho Máy học/Week 6/Social_Network_Ads.csv'\n",
        "data = pd.read_csv(data_link)"
      ],
      "execution_count": 80,
      "outputs": []
    },
    {
      "cell_type": "code",
      "metadata": {
        "colab": {
          "base_uri": "https://localhost:8080/",
          "height": 204
        },
        "id": "U9K3DKXgQx0U",
        "outputId": "716ff02c-de4d-4477-95c6-2797e5b41be1"
      },
      "source": [
        "data.head()"
      ],
      "execution_count": 81,
      "outputs": [
        {
          "output_type": "execute_result",
          "data": {
            "text/html": [
              "<div>\n",
              "<style scoped>\n",
              "    .dataframe tbody tr th:only-of-type {\n",
              "        vertical-align: middle;\n",
              "    }\n",
              "\n",
              "    .dataframe tbody tr th {\n",
              "        vertical-align: top;\n",
              "    }\n",
              "\n",
              "    .dataframe thead th {\n",
              "        text-align: right;\n",
              "    }\n",
              "</style>\n",
              "<table border=\"1\" class=\"dataframe\">\n",
              "  <thead>\n",
              "    <tr style=\"text-align: right;\">\n",
              "      <th></th>\n",
              "      <th>Age</th>\n",
              "      <th>EstimatedSalary</th>\n",
              "      <th>Purchased</th>\n",
              "    </tr>\n",
              "  </thead>\n",
              "  <tbody>\n",
              "    <tr>\n",
              "      <th>0</th>\n",
              "      <td>19</td>\n",
              "      <td>19000</td>\n",
              "      <td>0</td>\n",
              "    </tr>\n",
              "    <tr>\n",
              "      <th>1</th>\n",
              "      <td>35</td>\n",
              "      <td>20000</td>\n",
              "      <td>0</td>\n",
              "    </tr>\n",
              "    <tr>\n",
              "      <th>2</th>\n",
              "      <td>26</td>\n",
              "      <td>43000</td>\n",
              "      <td>0</td>\n",
              "    </tr>\n",
              "    <tr>\n",
              "      <th>3</th>\n",
              "      <td>27</td>\n",
              "      <td>57000</td>\n",
              "      <td>0</td>\n",
              "    </tr>\n",
              "    <tr>\n",
              "      <th>4</th>\n",
              "      <td>19</td>\n",
              "      <td>76000</td>\n",
              "      <td>0</td>\n",
              "    </tr>\n",
              "  </tbody>\n",
              "</table>\n",
              "</div>"
            ],
            "text/plain": [
              "   Age  EstimatedSalary  Purchased\n",
              "0   19            19000          0\n",
              "1   35            20000          0\n",
              "2   26            43000          0\n",
              "3   27            57000          0\n",
              "4   19            76000          0"
            ]
          },
          "metadata": {},
          "execution_count": 81
        }
      ]
    },
    {
      "cell_type": "code",
      "metadata": {
        "id": "UcC4e6unR1pQ"
      },
      "source": [
        "df = pd.DataFrame(data)\n",
        "X_data = df.iloc[:, 0:-1];\n",
        "Y_data = df.iloc[:, -1:];"
      ],
      "execution_count": 82,
      "outputs": []
    },
    {
      "cell_type": "code",
      "metadata": {
        "colab": {
          "base_uri": "https://localhost:8080/",
          "height": 419
        },
        "id": "C7stx6I5Sqta",
        "outputId": "548a33f8-d821-44f7-b34b-442d30b690b5"
      },
      "source": [
        "X_data"
      ],
      "execution_count": 83,
      "outputs": [
        {
          "output_type": "execute_result",
          "data": {
            "text/html": [
              "<div>\n",
              "<style scoped>\n",
              "    .dataframe tbody tr th:only-of-type {\n",
              "        vertical-align: middle;\n",
              "    }\n",
              "\n",
              "    .dataframe tbody tr th {\n",
              "        vertical-align: top;\n",
              "    }\n",
              "\n",
              "    .dataframe thead th {\n",
              "        text-align: right;\n",
              "    }\n",
              "</style>\n",
              "<table border=\"1\" class=\"dataframe\">\n",
              "  <thead>\n",
              "    <tr style=\"text-align: right;\">\n",
              "      <th></th>\n",
              "      <th>Age</th>\n",
              "      <th>EstimatedSalary</th>\n",
              "    </tr>\n",
              "  </thead>\n",
              "  <tbody>\n",
              "    <tr>\n",
              "      <th>0</th>\n",
              "      <td>19</td>\n",
              "      <td>19000</td>\n",
              "    </tr>\n",
              "    <tr>\n",
              "      <th>1</th>\n",
              "      <td>35</td>\n",
              "      <td>20000</td>\n",
              "    </tr>\n",
              "    <tr>\n",
              "      <th>2</th>\n",
              "      <td>26</td>\n",
              "      <td>43000</td>\n",
              "    </tr>\n",
              "    <tr>\n",
              "      <th>3</th>\n",
              "      <td>27</td>\n",
              "      <td>57000</td>\n",
              "    </tr>\n",
              "    <tr>\n",
              "      <th>4</th>\n",
              "      <td>19</td>\n",
              "      <td>76000</td>\n",
              "    </tr>\n",
              "    <tr>\n",
              "      <th>...</th>\n",
              "      <td>...</td>\n",
              "      <td>...</td>\n",
              "    </tr>\n",
              "    <tr>\n",
              "      <th>395</th>\n",
              "      <td>46</td>\n",
              "      <td>41000</td>\n",
              "    </tr>\n",
              "    <tr>\n",
              "      <th>396</th>\n",
              "      <td>51</td>\n",
              "      <td>23000</td>\n",
              "    </tr>\n",
              "    <tr>\n",
              "      <th>397</th>\n",
              "      <td>50</td>\n",
              "      <td>20000</td>\n",
              "    </tr>\n",
              "    <tr>\n",
              "      <th>398</th>\n",
              "      <td>36</td>\n",
              "      <td>33000</td>\n",
              "    </tr>\n",
              "    <tr>\n",
              "      <th>399</th>\n",
              "      <td>49</td>\n",
              "      <td>36000</td>\n",
              "    </tr>\n",
              "  </tbody>\n",
              "</table>\n",
              "<p>400 rows × 2 columns</p>\n",
              "</div>"
            ],
            "text/plain": [
              "     Age  EstimatedSalary\n",
              "0     19            19000\n",
              "1     35            20000\n",
              "2     26            43000\n",
              "3     27            57000\n",
              "4     19            76000\n",
              "..   ...              ...\n",
              "395   46            41000\n",
              "396   51            23000\n",
              "397   50            20000\n",
              "398   36            33000\n",
              "399   49            36000\n",
              "\n",
              "[400 rows x 2 columns]"
            ]
          },
          "metadata": {},
          "execution_count": 83
        }
      ]
    },
    {
      "cell_type": "markdown",
      "metadata": {
        "id": "v0aTVkoAUEYm"
      },
      "source": [
        "# Chuẩn hoá dữ liệu với StandardScaler"
      ]
    },
    {
      "cell_type": "code",
      "metadata": {
        "colab": {
          "base_uri": "https://localhost:8080/",
          "height": 204
        },
        "id": "xNe85xNKSO61",
        "outputId": "2a1cf647-d695-4de1-b80f-59ac9a166d74"
      },
      "source": [
        "X_data_np = X_data.to_numpy()\n",
        "Y_data_np = Y_data.to_numpy()\n",
        "std_X_np = StandardScaler().fit_transform(X_data_np)\n",
        "std_X_df = pd.DataFrame(std_X_np)\n",
        "std_X_df.head()"
      ],
      "execution_count": 84,
      "outputs": [
        {
          "output_type": "execute_result",
          "data": {
            "text/html": [
              "<div>\n",
              "<style scoped>\n",
              "    .dataframe tbody tr th:only-of-type {\n",
              "        vertical-align: middle;\n",
              "    }\n",
              "\n",
              "    .dataframe tbody tr th {\n",
              "        vertical-align: top;\n",
              "    }\n",
              "\n",
              "    .dataframe thead th {\n",
              "        text-align: right;\n",
              "    }\n",
              "</style>\n",
              "<table border=\"1\" class=\"dataframe\">\n",
              "  <thead>\n",
              "    <tr style=\"text-align: right;\">\n",
              "      <th></th>\n",
              "      <th>0</th>\n",
              "      <th>1</th>\n",
              "    </tr>\n",
              "  </thead>\n",
              "  <tbody>\n",
              "    <tr>\n",
              "      <th>0</th>\n",
              "      <td>-1.781797</td>\n",
              "      <td>-1.490046</td>\n",
              "    </tr>\n",
              "    <tr>\n",
              "      <th>1</th>\n",
              "      <td>-0.253587</td>\n",
              "      <td>-1.460681</td>\n",
              "    </tr>\n",
              "    <tr>\n",
              "      <th>2</th>\n",
              "      <td>-1.113206</td>\n",
              "      <td>-0.785290</td>\n",
              "    </tr>\n",
              "    <tr>\n",
              "      <th>3</th>\n",
              "      <td>-1.017692</td>\n",
              "      <td>-0.374182</td>\n",
              "    </tr>\n",
              "    <tr>\n",
              "      <th>4</th>\n",
              "      <td>-1.781797</td>\n",
              "      <td>0.183751</td>\n",
              "    </tr>\n",
              "  </tbody>\n",
              "</table>\n",
              "</div>"
            ],
            "text/plain": [
              "          0         1\n",
              "0 -1.781797 -1.490046\n",
              "1 -0.253587 -1.460681\n",
              "2 -1.113206 -0.785290\n",
              "3 -1.017692 -0.374182\n",
              "4 -1.781797  0.183751"
            ]
          },
          "metadata": {},
          "execution_count": 84
        }
      ]
    },
    {
      "cell_type": "markdown",
      "metadata": {
        "id": "ispoWfhwUN7G"
      },
      "source": [
        "# Split data"
      ]
    },
    {
      "cell_type": "code",
      "metadata": {
        "id": "86ZX7GczStbo"
      },
      "source": [
        "from sklearn.model_selection import train_test_split\n",
        "X_train, X_test, Y_train, Y_test = train_test_split(std_X_np, Y_data_np, test_size=0.2)"
      ],
      "execution_count": 85,
      "outputs": []
    },
    {
      "cell_type": "markdown",
      "metadata": {
        "id": "O6dQhfyPhwcK"
      },
      "source": [
        "# Visualize results model"
      ]
    },
    {
      "cell_type": "code",
      "metadata": {
        "id": "T0r47ps4gKwd"
      },
      "source": [
        "import seaborn as sns\n",
        "from sklearn.metrics import confusion_matrix\n",
        "import matplotlib.pyplot as plt\n",
        "def visualize_results(X_test, Y_test, model, title):\n",
        "  x_min, x_max = X_test[:, 0].min() - 0.5, X_test[:, 0].max() + 0.5\n",
        "  y_min, y_max = X_test[:, 1].min() - 0.5, X_test[:, 1].max() + 0.5\n",
        "  h = 0.02\n",
        "  xx, yy = np.meshgrid(np.arange(x_min, x_max, h), np.arange(y_min, y_max, h))\n",
        "  Z = model.predict(np.c_[xx.ravel(), yy.ravel()])\n",
        "  Z = Z.reshape(xx.shape)\n",
        "\n",
        "  plt.figure(1, figsize=(6,6))\n",
        "  plt.pcolormesh(xx, yy, Z, cmap=plt.cm.Paired)\n",
        "  plt.scatter(X_test[:, 0], X_test[:, 1], c=Y_test, edgecolors='k', cmap=plt.cm.Paired)\n",
        "  plt.xlim(xx.min(), xx.max())\n",
        "  plt.ylim(yy.min(), yy.max())\n",
        "  plt.xticks(())\n",
        "  plt.yticks(())\n",
        "  plt.title(title)\n",
        "  plt.show()"
      ],
      "execution_count": 86,
      "outputs": []
    },
    {
      "cell_type": "markdown",
      "metadata": {
        "id": "3DzaWr39i5pj"
      },
      "source": [
        "# Đánh model giá bằng K-Fold Cross Validation"
      ]
    },
    {
      "cell_type": "code",
      "metadata": {
        "id": "ht74LpV0jBLj"
      },
      "source": [
        "from sklearn.model_selection import KFold\n",
        "def evaluate_with_KFold(X_data_np, Y_data_np, model):\n",
        "    kfold = KFold(5, True, 1);\n",
        "    accuracy_list = [];\n",
        "    for train, test in kfold.split(X_data_np, Y_data_np):\n",
        "        X_train, X_test = X_data_np[train], X_data_np[test];\n",
        "        Y_train, Y_test = Y_data_np[train], Y_data_np[test]\n",
        "\n",
        "        model.fit(X_train, Y_train);\n",
        "        Y_pred = model.predict(X_test);\n",
        "        accuracy_list.append(accuracy_score(Y_test, Y_pred));\n",
        "\n",
        "    return np.mean(accuracy_list);"
      ],
      "execution_count": 87,
      "outputs": []
    },
    {
      "cell_type": "markdown",
      "metadata": {
        "id": "9WfDoS39UTzR"
      },
      "source": [
        "# Tranning and evaluate model"
      ]
    },
    {
      "cell_type": "markdown",
      "metadata": {
        "id": "X3TPWeO7UXcX"
      },
      "source": [
        "## Model Logistic Regression"
      ]
    },
    {
      "cell_type": "code",
      "metadata": {
        "colab": {
          "base_uri": "https://localhost:8080/"
        },
        "id": "V_KB0gT8TQi4",
        "outputId": "d4827d07-7217-489d-8afb-ecd10fbb1e80"
      },
      "source": [
        "from sklearn.linear_model import LogisticRegression\n",
        "logistic_regression_model = LogisticRegression()\n",
        "logistic_regression_model.fit(X_train, Y_train)"
      ],
      "execution_count": 88,
      "outputs": [
        {
          "output_type": "execute_result",
          "data": {
            "text/plain": [
              "LogisticRegression(C=1.0, class_weight=None, dual=False, fit_intercept=True,\n",
              "                   intercept_scaling=1, l1_ratio=None, max_iter=100,\n",
              "                   multi_class='auto', n_jobs=None, penalty='l2',\n",
              "                   random_state=None, solver='lbfgs', tol=0.0001, verbose=0,\n",
              "                   warm_start=False)"
            ]
          },
          "metadata": {},
          "execution_count": 88
        }
      ]
    },
    {
      "cell_type": "code",
      "metadata": {
        "id": "r3q52Qa8Tvhh"
      },
      "source": [
        "Y_pred = logistic_regression_model.predict(X_test)"
      ],
      "execution_count": 89,
      "outputs": []
    },
    {
      "cell_type": "code",
      "metadata": {
        "colab": {
          "base_uri": "https://localhost:8080/"
        },
        "id": "x6qXs-f4TWTH",
        "outputId": "f348337b-b08f-42b7-ab27-7dbfada68784"
      },
      "source": [
        "accuracy = accuracy_score(Y_test, Y_pred)\n",
        "print(classification_report(Y_test, Y_pred))\n",
        "print('Accuracy: ', accuracy)\n",
        "print('--------------------------------------------')\n",
        "print('Accuracy with K-Fold: ',evaluate_with_KFold(std_X_np, Y_data_np, logistic_regression_model));"
      ],
      "execution_count": 90,
      "outputs": [
        {
          "output_type": "stream",
          "name": "stdout",
          "text": [
            "              precision    recall  f1-score   support\n",
            "\n",
            "           0       0.85      0.89      0.87        57\n",
            "           1       0.70      0.61      0.65        23\n",
            "\n",
            "    accuracy                           0.81        80\n",
            "   macro avg       0.77      0.75      0.76        80\n",
            "weighted avg       0.81      0.81      0.81        80\n",
            "\n",
            "Accuracy:  0.8125\n",
            "--------------------------------------------\n",
            "Accuracy with K-Fold:  0.8450000000000001\n"
          ]
        }
      ]
    },
    {
      "cell_type": "code",
      "metadata": {
        "colab": {
          "base_uri": "https://localhost:8080/",
          "height": 377
        },
        "id": "S3OI4D0UvTIn",
        "outputId": "9c5b0170-6781-49dd-b15f-54c635bc93e7"
      },
      "source": [
        "visualize_results(X_test, Y_test, logistic_regression_model, 'Logistic Regression')"
      ],
      "execution_count": 91,
      "outputs": [
        {
          "output_type": "display_data",
          "data": {
            "image/png": "[encoded data removed]",
            "text/plain": [
              "<Figure size 432x432 with 1 Axes>"
            ]
          },
          "metadata": {}
        }
      ]
    },
    {
      "cell_type": "markdown",
      "metadata": {
        "id": "D3ctggm5XU20"
      },
      "source": [
        "## Model KNN"
      ]
    },
    {
      "cell_type": "code",
      "metadata": {
        "id": "-q9RPB1fXUNW"
      },
      "source": [
        "from sklearn.neighbors import KNeighborsClassifier\n",
        "KNN_model = KNeighborsClassifier(n_neighbors=7)"
      ],
      "execution_count": 92,
      "outputs": []
    },
    {
      "cell_type": "code",
      "metadata": {
        "colab": {
          "base_uri": "https://localhost:8080/"
        },
        "id": "x4lV39PcXsMI",
        "outputId": "41f8a7b7-06bc-4d64-fbb4-44a416ecbccc"
      },
      "source": [
        "KNN_model.fit(X_train, Y_train)"
      ],
      "execution_count": 93,
      "outputs": [
        {
          "output_type": "execute_result",
          "data": {
            "text/plain": [
              "KNeighborsClassifier(algorithm='auto', leaf_size=30, metric='minkowski',\n",
              "                     metric_params=None, n_jobs=None, n_neighbors=7, p=2,\n",
              "                     weights='uniform')"
            ]
          },
          "metadata": {},
          "execution_count": 93
        }
      ]
    },
    {
      "cell_type": "code",
      "metadata": {
        "colab": {
          "base_uri": "https://localhost:8080/"
        },
        "id": "3T8-W0lSXu9q",
        "outputId": "ff139252-ebd0-4f6f-8578-22880058085e"
      },
      "source": [
        "Y_pred = KNN_model.predict(X_test)\n",
        "accuracy = accuracy_score(Y_test, Y_pred)\n",
        "print(classification_report(Y_test, Y_pred))\n",
        "print('Accuracy: ', accuracy)\n",
        "print('--------------------------------------------')\n",
        "print('Accuracy with K-Fold: ',evaluate_with_KFold(std_X_np, Y_data_np, KNN_model));"
      ],
      "execution_count": 94,
      "outputs": [
        {
          "output_type": "stream",
          "name": "stdout",
          "text": [
            "              precision    recall  f1-score   support\n",
            "\n",
            "           0       0.96      0.89      0.93        57\n",
            "           1       0.78      0.91      0.84        23\n",
            "\n",
            "    accuracy                           0.90        80\n",
            "   macro avg       0.87      0.90      0.88        80\n",
            "weighted avg       0.91      0.90      0.90        80\n",
            "\n",
            "Accuracy:  0.9\n",
            "--------------------------------------------\n",
            "Accuracy with K-Fold:  0.9075000000000001\n"
          ]
        }
      ]
    },
    {
      "cell_type": "code",
      "metadata": {
        "colab": {
          "base_uri": "https://localhost:8080/",
          "height": 377
        },
        "id": "VCazWtPFg6sx",
        "outputId": "27a53d32-6865-49f3-a82b-8f477f8060df"
      },
      "source": [
        "visualize_results(X_test, Y_test, KNN_model, 'KNN')"
      ],
      "execution_count": 95,
      "outputs": [
        {
          "output_type": "display_data",
          "data": {
            "image/png": "[encoded data removed]",
            "text/plain": [
              "<Figure size 432x432 with 1 Axes>"
            ]
          },
          "metadata": {}
        }
      ]
    },
    {
      "cell_type": "markdown",
      "metadata": {
        "id": "R5wVVAMsUnmW"
      },
      "source": [
        "## Model Support Vector Machine(SVM)"
      ]
    },
    {
      "cell_type": "code",
      "metadata": {
        "id": "Xd2sULktUqym"
      },
      "source": [
        "# SVM rbf\n",
        "from sklearn.svm import SVC\n",
        "svm_model = SVC(C=1, kernel='rbf', gamma=0.01)"
      ],
      "execution_count": 96,
      "outputs": []
    },
    {
      "cell_type": "code",
      "metadata": {
        "colab": {
          "base_uri": "https://localhost:8080/"
        },
        "id": "0eg3VXalVFK1",
        "outputId": "c930d9a4-0f01-40b4-a8f3-646b87594940"
      },
      "source": [
        "svm_model.fit(X_train, Y_train)"
      ],
      "execution_count": 97,
      "outputs": [
        {
          "output_type": "execute_result",
          "data": {
            "text/plain": [
              "SVC(C=1, break_ties=False, cache_size=200, class_weight=None, coef0=0.0,\n",
              "    decision_function_shape='ovr', degree=3, gamma=0.01, kernel='rbf',\n",
              "    max_iter=-1, probability=False, random_state=None, shrinking=True,\n",
              "    tol=0.001, verbose=False)"
            ]
          },
          "metadata": {},
          "execution_count": 97
        }
      ]
    },
    {
      "cell_type": "code",
      "metadata": {
        "colab": {
          "base_uri": "https://localhost:8080/"
        },
        "id": "4orAcMJVVai9",
        "outputId": "c2d0c606-c278-440d-a455-7f075978988c"
      },
      "source": [
        "Y_pred = svm_model.predict(X_test)\n",
        "accuracy = accuracy_score(Y_test, Y_pred)\n",
        "print(classification_report(Y_test, Y_pred))\n",
        "print('Accuracy: ', accuracy)\n",
        "print('--------------------------------------------')\n",
        "print('Accuracy with K-Fold: ',evaluate_with_KFold(std_X_np, Y_data_np, svm_model));"
      ],
      "execution_count": 98,
      "outputs": [
        {
          "output_type": "stream",
          "name": "stdout",
          "text": [
            "              precision    recall  f1-score   support\n",
            "\n",
            "           0       0.83      0.95      0.89        57\n",
            "           1       0.80      0.52      0.63        23\n",
            "\n",
            "    accuracy                           0.82        80\n",
            "   macro avg       0.82      0.73      0.76        80\n",
            "weighted avg       0.82      0.82      0.81        80\n",
            "\n",
            "Accuracy:  0.825\n",
            "--------------------------------------------\n",
            "Accuracy with K-Fold:  0.8175000000000001\n"
          ]
        }
      ]
    },
    {
      "cell_type": "code",
      "metadata": {
        "colab": {
          "base_uri": "https://localhost:8080/",
          "height": 377
        },
        "id": "n3iU2N4Fg91l",
        "outputId": "9aae8902-f88e-4565-c72f-bcac43a521a0"
      },
      "source": [
        "visualize_results(X_test, Y_test, svm_model, 'SVM kernel')"
      ],
      "execution_count": 99,
      "outputs": [
        {
          "output_type": "display_data",
          "data": {
            "image/png": "[encoded data removed]",
            "text/plain": [
              "<Figure size 432x432 with 1 Axes>"
            ]
          },
          "metadata": {}
        }
      ]
    },
    {
      "cell_type": "code",
      "metadata": {
        "id": "kthnRqe5Wnnq"
      },
      "source": [
        "# SVM linear\n",
        "svm_model = SVC(C=1, kernel='linear', gamma=0.01)"
      ],
      "execution_count": 100,
      "outputs": []
    },
    {
      "cell_type": "code",
      "metadata": {
        "colab": {
          "base_uri": "https://localhost:8080/"
        },
        "id": "saSh7IK9Wsw8",
        "outputId": "0a6b1400-427f-47cc-fdbb-94157bfa6c45"
      },
      "source": [
        "svm_model.fit(X_train, Y_train)"
      ],
      "execution_count": 101,
      "outputs": [
        {
          "output_type": "execute_result",
          "data": {
            "text/plain": [
              "SVC(C=1, break_ties=False, cache_size=200, class_weight=None, coef0=0.0,\n",
              "    decision_function_shape='ovr', degree=3, gamma=0.01, kernel='linear',\n",
              "    max_iter=-1, probability=False, random_state=None, shrinking=True,\n",
              "    tol=0.001, verbose=False)"
            ]
          },
          "metadata": {},
          "execution_count": 101
        }
      ]
    },
    {
      "cell_type": "code",
      "metadata": {
        "colab": {
          "base_uri": "https://localhost:8080/"
        },
        "id": "akJIYSZXWub-",
        "outputId": "6a55ada7-24a8-4383-f536-c31adf8df9a6"
      },
      "source": [
        "Y_pred = svm_model.predict(X_test)\n",
        "accuracy = accuracy_score(Y_test, Y_pred)\n",
        "print(classification_report(Y_test, Y_pred))\n",
        "print('Accuracy: ', accuracy)\n",
        "print('--------------------------------------------')\n",
        "print('Accuracy with K-Fold: ',evaluate_with_KFold(std_X_np, Y_data_np, svm_model));"
      ],
      "execution_count": 102,
      "outputs": [
        {
          "output_type": "stream",
          "name": "stdout",
          "text": [
            "              precision    recall  f1-score   support\n",
            "\n",
            "           0       0.85      0.89      0.87        57\n",
            "           1       0.70      0.61      0.65        23\n",
            "\n",
            "    accuracy                           0.81        80\n",
            "   macro avg       0.77      0.75      0.76        80\n",
            "weighted avg       0.81      0.81      0.81        80\n",
            "\n",
            "Accuracy:  0.8125\n",
            "--------------------------------------------\n",
            "Accuracy with K-Fold:  0.8425\n"
          ]
        }
      ]
    },
    {
      "cell_type": "code",
      "metadata": {
        "colab": {
          "base_uri": "https://localhost:8080/",
          "height": 377
        },
        "id": "0MktKBAuhAOe",
        "outputId": "9fae6a71-04b9-4c14-e372-95b495a80800"
      },
      "source": [
        "visualize_results(X_test, Y_test, svm_model, 'SVM linear')"
      ],
      "execution_count": 103,
      "outputs": [
        {
          "output_type": "display_data",
          "data": {
            "image/png": "[encoded data removed]",
            "text/plain": [
              "<Figure size 432x432 with 1 Axes>"
            ]
          },
          "metadata": {}
        }
      ]
    },
    {
      "cell_type": "markdown",
      "metadata": {
        "id": "h-v15rdDYFR8"
      },
      "source": [
        "## Model Naive bayes"
      ]
    },
    {
      "cell_type": "code",
      "metadata": {
        "id": "zmATR37sX5Uy"
      },
      "source": [
        "from sklearn.naive_bayes import GaussianNB\n",
        "naive_bayes_model = GaussianNB()"
      ],
      "execution_count": 104,
      "outputs": []
    },
    {
      "cell_type": "code",
      "metadata": {
        "colab": {
          "base_uri": "https://localhost:8080/"
        },
        "id": "ItNiD-CzYKzP",
        "outputId": "4ad55eca-abed-4aa7-bbbe-d28e542beb95"
      },
      "source": [
        "naive_bayes_model.fit(X_train, Y_train)"
      ],
      "execution_count": 105,
      "outputs": [
        {
          "output_type": "execute_result",
          "data": {
            "text/plain": [
              "GaussianNB(priors=None, var_smoothing=1e-09)"
            ]
          },
          "metadata": {},
          "execution_count": 105
        }
      ]
    },
    {
      "cell_type": "code",
      "metadata": {
        "colab": {
          "base_uri": "https://localhost:8080/"
        },
        "id": "T6ul4egrYimm",
        "outputId": "1e93de62-253f-417a-a483-5687bb1a4fe3"
      },
      "source": [
        "Y_pred = naive_bayes_model.predict(X_test)\n",
        "accuracy = accuracy_score(Y_test, Y_pred)\n",
        "print(classification_report(Y_test, Y_pred))\n",
        "print('Accuracy: ', accuracy)\n",
        "print('--------------------------------------------')\n",
        "print('Accuracy with K-Fold: ',evaluate_with_KFold(std_X_np, Y_data_np, naive_bayes_model));"
      ],
      "execution_count": 106,
      "outputs": [
        {
          "output_type": "stream",
          "name": "stdout",
          "text": [
            "              precision    recall  f1-score   support\n",
            "\n",
            "           0       0.93      0.93      0.93        57\n",
            "           1       0.83      0.83      0.83        23\n",
            "\n",
            "    accuracy                           0.90        80\n",
            "   macro avg       0.88      0.88      0.88        80\n",
            "weighted avg       0.90      0.90      0.90        80\n",
            "\n",
            "Accuracy:  0.9\n",
            "--------------------------------------------\n",
            "Accuracy with K-Fold:  0.8899999999999999\n"
          ]
        }
      ]
    },
    {
      "cell_type": "code",
      "metadata": {
        "colab": {
          "base_uri": "https://localhost:8080/",
          "height": 377
        },
        "id": "opXs88GVhCqL",
        "outputId": "4a78fe10-d099-4861-be4d-ee212a783c3f"
      },
      "source": [
        "visualize_results(X_test, Y_test, naive_bayes_model, 'Naive bayes')"
      ],
      "execution_count": 107,
      "outputs": [
        {
          "output_type": "display_data",
          "data": {
            "image/png": "[encoded data removed]",
            "text/plain": [
              "<Figure size 432x432 with 1 Axes>"
            ]
          },
          "metadata": {}
        }
      ]
    },
    {
      "cell_type": "markdown",
      "metadata": {
        "id": "l_iMfyaDYxB8"
      },
      "source": [
        "## Model Decision Tree"
      ]
    },
    {
      "cell_type": "code",
      "metadata": {
        "id": "Ov1uRiNEYwDD"
      },
      "source": [
        "from sklearn import tree\n",
        "clf_model = tree.DecisionTreeClassifier()"
      ],
      "execution_count": 108,
      "outputs": []
    },
    {
      "cell_type": "code",
      "metadata": {
        "colab": {
          "base_uri": "https://localhost:8080/"
        },
        "id": "iQruSIb_ZKQN",
        "outputId": "3291fa0d-05e9-40de-c868-6b135cf91979"
      },
      "source": [
        "clf_model.fit(X_train, Y_train)"
      ],
      "execution_count": 109,
      "outputs": [
        {
          "output_type": "execute_result",
          "data": {
            "text/plain": [
              "DecisionTreeClassifier(ccp_alpha=0.0, class_weight=None, criterion='gini',\n",
              "                       max_depth=None, max_features=None, max_leaf_nodes=None,\n",
              "                       min_impurity_decrease=0.0, min_impurity_split=None,\n",
              "                       min_samples_leaf=1, min_samples_split=2,\n",
              "                       min_weight_fraction_leaf=0.0, presort='deprecated',\n",
              "                       random_state=None, splitter='best')"
            ]
          },
          "metadata": {},
          "execution_count": 109
        }
      ]
    },
    {
      "cell_type": "code",
      "metadata": {
        "colab": {
          "base_uri": "https://localhost:8080/"
        },
        "id": "lWTPe0eWZP-6",
        "outputId": "b5f05da6-6434-4248-8852-d8c928fbdeb9"
      },
      "source": [
        "Y_pred = clf_model.predict(X_test)\n",
        "accuracy = accuracy_score(Y_test, Y_pred)\n",
        "print(classification_report(Y_test, Y_pred))\n",
        "print('Accuracy: ', accuracy)\n",
        "print('--------------------------------------------')\n",
        "print('Accuracy with K-Fold: ',evaluate_with_KFold(std_X_np, Y_data_np, clf_model));"
      ],
      "execution_count": 110,
      "outputs": [
        {
          "output_type": "stream",
          "name": "stdout",
          "text": [
            "              precision    recall  f1-score   support\n",
            "\n",
            "           0       0.96      0.88      0.92        57\n",
            "           1       0.75      0.91      0.82        23\n",
            "\n",
            "    accuracy                           0.89        80\n",
            "   macro avg       0.86      0.90      0.87        80\n",
            "weighted avg       0.90      0.89      0.89        80\n",
            "\n",
            "Accuracy:  0.8875\n",
            "--------------------------------------------\n",
            "Accuracy with K-Fold:  0.8400000000000001\n"
          ]
        }
      ]
    },
    {
      "cell_type": "code",
      "metadata": {
        "colab": {
          "base_uri": "https://localhost:8080/",
          "height": 377
        },
        "id": "7p1-4VEshEwB",
        "outputId": "40cee4a7-96f4-4338-d355-a71005a27cb8"
      },
      "source": [
        "visualize_results(X_test, Y_test, clf_model, 'Decision Tree')"
      ],
      "execution_count": 111,
      "outputs": [
        {
          "output_type": "display_data",
          "data": {
            "image/png": "[encoded data removed]",
            "text/plain": [
              "<Figure size 432x432 with 1 Axes>"
            ]
          },
          "metadata": {}
        }
      ]
    },
    {
      "cell_type": "markdown",
      "metadata": {
        "id": "_nDLenqrZhp3"
      },
      "source": [
        "## Model Random Forest"
      ]
    },
    {
      "cell_type": "code",
      "metadata": {
        "id": "LQ_6EEraZeTo"
      },
      "source": [
        "from sklearn.ensemble import RandomForestClassifier\n",
        "rfc_model = RandomForestClassifier(max_depth=2, random_state=0)"
      ],
      "execution_count": 112,
      "outputs": []
    },
    {
      "cell_type": "code",
      "metadata": {
        "colab": {
          "base_uri": "https://localhost:8080/"
        },
        "id": "aDmWMhyiaIaB",
        "outputId": "1ea066cc-04a9-46f9-c07d-ed6e448c3033"
      },
      "source": [
        "rfc_model.fit(X_train, Y_train)"
      ],
      "execution_count": 113,
      "outputs": [
        {
          "output_type": "execute_result",
          "data": {
            "text/plain": [
              "RandomForestClassifier(bootstrap=True, ccp_alpha=0.0, class_weight=None,\n",
              "                       criterion='gini', max_depth=2, max_features='auto',\n",
              "                       max_leaf_nodes=None, max_samples=None,\n",
              "                       min_impurity_decrease=0.0, min_impurity_split=None,\n",
              "                       min_samples_leaf=1, min_samples_split=2,\n",
              "                       min_weight_fraction_leaf=0.0, n_estimators=100,\n",
              "                       n_jobs=None, oob_score=False, random_state=0, verbose=0,\n",
              "                       warm_start=False)"
            ]
          },
          "metadata": {},
          "execution_count": 113
        }
      ]
    },
    {
      "cell_type": "code",
      "metadata": {
        "colab": {
          "base_uri": "https://localhost:8080/"
        },
        "id": "9UfA84WtaM4C",
        "outputId": "5c6311ea-b733-42ae-d49c-464045a33327"
      },
      "source": [
        "Y_pred = rfc_model.predict(X_test)\n",
        "accuracy = accuracy_score(Y_test, Y_pred)\n",
        "print(classification_report(Y_test, Y_pred))\n",
        "print('Accuracy: ', accuracy)\n",
        "print('--------------------------------------------')\n",
        "print('Accuracy with K-Fold: ',evaluate_with_KFold(std_X_np, Y_data_np, rfc_model));"
      ],
      "execution_count": 114,
      "outputs": [
        {
          "output_type": "stream",
          "name": "stdout",
          "text": [
            "              precision    recall  f1-score   support\n",
            "\n",
            "           0       1.00      0.89      0.94        57\n",
            "           1       0.79      1.00      0.88        23\n",
            "\n",
            "    accuracy                           0.93        80\n",
            "   macro avg       0.90      0.95      0.91        80\n",
            "weighted avg       0.94      0.93      0.93        80\n",
            "\n",
            "Accuracy:  0.925\n",
            "--------------------------------------------\n",
            "Accuracy with K-Fold:  0.9125\n"
          ]
        }
      ]
    },
    {
      "cell_type": "code",
      "metadata": {
        "colab": {
          "base_uri": "https://localhost:8080/",
          "height": 377
        },
        "id": "gpTrZCwOhHCC",
        "outputId": "e0a536bb-9056-4c2f-d35b-d5cd88e7a9b6"
      },
      "source": [
        "visualize_results(X_test, Y_test, rfc_model, 'Model Random Forest')"
      ],
      "execution_count": 115,
      "outputs": [
        {
          "output_type": "display_data",
          "data": {
            "image/png": "[encoded data removed]",
            "text/plain": [
              "<Figure size 432x432 with 1 Axes>"
            ]
          },
          "metadata": {}
        }
      ]
    }
  ]
}