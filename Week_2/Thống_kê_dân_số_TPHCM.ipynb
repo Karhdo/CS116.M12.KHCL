{
  "nbformat": 4,
  "nbformat_minor": 0,
  "metadata": {
    "colab": {
      "name": "Thống_kê_dân_số_TPHCM.ipynb",
      "provenance": [],
      "collapsed_sections": [],
      "authorship_tag": "ABX9TyOdRp8UgC2fQHGM2ySzeax1",
      "include_colab_link": true
    },
    "kernelspec": {
      "name": "python3",
      "display_name": "Python 3"
    },
    "language_info": {
      "name": "python"
    }
  },
  "cells": [
    {
      "cell_type": "markdown",
      "metadata": {
        "id": "view-in-github",
        "colab_type": "text"
      },
      "source": [
        "<a href=\"https://colab.research.google.com/github/trong-khanh-1109/CS116.M12.KHCL/blob/main/Th%E1%BB%91ng_k%C3%AA_d%C3%A2n_s%E1%BB%91_TPHCM.ipynb\" target=\"_parent\"><img src=\"https://colab.research.google.com/assets/colab-badge.svg\" alt=\"Open In Colab\"/></a>"
      ]
    },
    {
      "cell_type": "code",
      "metadata": {
        "id": "ca4Sh5U2YVdz"
      },
      "source": [
        "pip install geopandas"
      ],
      "execution_count": null,
      "outputs": []
    },
    {
      "cell_type": "code",
      "metadata": {
        "id": "dn4pXdwmfHG0"
      },
      "source": [
        "import geopandas as gpd\n",
        "import pandas as pd"
      ],
      "execution_count": null,
      "outputs": []
    },
    {
      "cell_type": "code",
      "metadata": {
        "id": "CF5czPnHcu8p"
      },
      "source": [
        "!git clone https://github.com/CityScope/CSL_HCMC.git"
      ],
      "execution_count": null,
      "outputs": []
    },
    {
      "cell_type": "code",
      "metadata": {
        "id": "cos7yn7cWXxw"
      },
      "source": [
        "data = gpd.read_file('CSL_HCMC/Data/GIS/Population/population_HCMC/population_shapefile/Population_Ward_Level.shp')"
      ],
      "execution_count": null,
      "outputs": []
    },
    {
      "cell_type": "code",
      "metadata": {
        "colab": {
          "base_uri": "https://localhost:8080/"
        },
        "id": "Q2DVGf_fZezF",
        "outputId": "cff88eff-8019-49ca-b363-b3880b3aa285"
      },
      "source": [
        "data.info()"
      ],
      "execution_count": null,
      "outputs": [
        {
          "output_type": "stream",
          "name": "stdout",
          "text": [
            "<class 'geopandas.geodataframe.GeoDataFrame'>\n",
            "RangeIndex: 322 entries, 0 to 321\n",
            "Data columns (total 12 columns):\n",
            " #   Column      Non-Null Count  Dtype   \n",
            "---  ------      --------------  -----   \n",
            " 0   Com_Name    322 non-null    object  \n",
            " 1   Dist_Name   322 non-null    object  \n",
            " 2   Com_ID      322 non-null    object  \n",
            " 3   Dist_ID     322 non-null    object  \n",
            " 4   Level       322 non-null    object  \n",
            " 5   Pop_2009    322 non-null    float64 \n",
            " 6   Pop_2019    322 non-null    float64 \n",
            " 7   Den_2009    322 non-null    float64 \n",
            " 8   Den_2019    322 non-null    float64 \n",
            " 9   Shape_Leng  322 non-null    float64 \n",
            " 10  Shape_Area  322 non-null    float64 \n",
            " 11  geometry    322 non-null    geometry\n",
            "dtypes: float64(6), geometry(1), object(5)\n",
            "memory usage: 30.3+ KB\n"
          ]
        }
      ]
    },
    {
      "cell_type": "code",
      "metadata": {
        "colab": {
          "base_uri": "https://localhost:8080/"
        },
        "id": "oFEJCUIQbmn9",
        "outputId": "6ca3fc59-75e4-4f1c-cdf8-cbd7488e4775"
      },
      "source": [
        "#Phường nào có diện tích lớn nhất\n",
        "idx = data['Shape_Area'].idxmax\n",
        "print('Phường nào có diện tích lớn nhất: ' + data['Com_Name'][idx] + ', ' + data['Dist_Name'][idx])"
      ],
      "execution_count": null,
      "outputs": [
        {
          "output_type": "stream",
          "name": "stdout",
          "text": [
            "Phường nào có diện tích lớn nhất: Ly Nhon, Can Gio\n"
          ]
        }
      ]
    },
    {
      "cell_type": "code",
      "metadata": {
        "colab": {
          "base_uri": "https://localhost:8080/"
        },
        "id": "eZ6phbuQfZ-R",
        "outputId": "5c0676fb-8e1e-4c31-8b1a-1a16d5e8ea46"
      },
      "source": [
        "#Phường nào có diện tích nhỏ nhất\n",
        "idx = data['Shape_Area'].idxmin\n",
        "print('Phường nào có diện tích nhỏ nhất: ' + data['Com_Name'][idx] + ', ' + data['Dist_Name'][idx])"
      ],
      "execution_count": null,
      "outputs": [
        {
          "output_type": "stream",
          "name": "stdout",
          "text": [
            "Phường nào có diện tích nhỏ nhất: Ward 3, District 10\n"
          ]
        }
      ]
    },
    {
      "cell_type": "code",
      "metadata": {
        "colab": {
          "base_uri": "https://localhost:8080/"
        },
        "id": "SzIcHQVWfjiJ",
        "outputId": "cfc94676-93d7-4c88-8db7-0b612107ff64"
      },
      "source": [
        "#Phường nào có dân số 2019 (Pop_2019) cao nhất\n",
        "idx = data['Pop_2019'].idxmax\n",
        "print('Phường nào có dân số 2019 (Pop_2019) cao nhất: ' + data['Com_Name'][idx] + ', ' + data['Dist_Name'][idx])"
      ],
      "execution_count": null,
      "outputs": [
        {
          "output_type": "stream",
          "name": "stdout",
          "text": [
            "Phường nào có dân số 2019 (Pop_2019) cao nhất: Vinh Loc A, Binh Chanh\n"
          ]
        }
      ]
    },
    {
      "cell_type": "code",
      "metadata": {
        "colab": {
          "base_uri": "https://localhost:8080/"
        },
        "id": "_SISr6V4f1k3",
        "outputId": "6fcc180d-b71e-4a1b-bb62-85c832d6fe3e"
      },
      "source": [
        "#Phường nào có dân số 2019 (Pop_2019) thấp nhất\n",
        "idx = data['Pop_2019'].idxmin\n",
        "print('Phường nào có dân số 2019 (Pop_2019) thấp nhất: ' + data['Com_Name'][idx] + ', ' + data['Dist_Name'][idx])"
      ],
      "execution_count": null,
      "outputs": [
        {
          "output_type": "stream",
          "name": "stdout",
          "text": [
            "Phường nào có dân số 2019 (Pop_2019) thấp nhất: An Khanh, District 2\n"
          ]
        }
      ]
    },
    {
      "cell_type": "code",
      "metadata": {
        "colab": {
          "base_uri": "https://localhost:8080/"
        },
        "id": "9rPRlDFFf9Nj",
        "outputId": "017d0b64-e3ba-4a64-9f95-fa0cfd21ae95"
      },
      "source": [
        "#Phường nào có tốc độ tăng trưởng dân số nhanh nhất (dựa trên Pop_2009 và Pop_2019)\n",
        "idx = (data['Pop_2019'] / data['Pop_2009']).idxmax\n",
        "print('Phường nào có tốc độ tăng trưởng dân số nhanh nhất (dựa trên Pop_2009 và Pop_2019): ' + data['Com_Name'][idx] + ', ' + data['Dist_Name'][idx])"
      ],
      "execution_count": null,
      "outputs": [
        {
          "output_type": "stream",
          "name": "stdout",
          "text": [
            "Phường nào có tốc độ tăng trưởng dân số nhanh nhất (dựa trên Pop_2009 và Pop_2019): Phu Huu, District 9\n"
          ]
        }
      ]
    },
    {
      "cell_type": "code",
      "metadata": {
        "colab": {
          "base_uri": "https://localhost:8080/"
        },
        "id": "j4qdZsSMg3bK",
        "outputId": "15efe27b-b237-4315-8af0-1c02fa305ce1"
      },
      "source": [
        "#Phường nào có tốc độ tăng trưởng dân số thấp nhất\n",
        "idx = (abs(data['Pop_2019'] - data['Pop_2009']) / data['Pop_2009']).idxmin\n",
        "print('Phường nào có tốc độ tăng trưởng dân số thấp nhất: ' + data['Com_Name'][idx] + ', ' + data['Dist_Name'][idx])"
      ],
      "execution_count": null,
      "outputs": [
        {
          "output_type": "stream",
          "name": "stdout",
          "text": [
            "Phường nào có tốc độ tăng trưởng dân số thấp nhất: Ward 11, Binh Thanh\n"
          ]
        }
      ]
    },
    {
      "cell_type": "code",
      "metadata": {
        "colab": {
          "base_uri": "https://localhost:8080/"
        },
        "id": "kGxebPALhmoM",
        "outputId": "bd74edf5-69f7-4879-8f65-59c5b89c285f"
      },
      "source": [
        "#Phường nào có tốc độ tăng trưởng dân số cao nhất\n",
        "idx = (abs(data['Pop_2019'] - data['Pop_2009']) / data['Pop_2009']).idxmax\n",
        "print('Phường nào có tốc độ tăng trưởng dân số cao nhất:' + data['Com_Name'][idx] + ', ' + data['Dist_Name'][idx])"
      ],
      "execution_count": null,
      "outputs": [
        {
          "output_type": "stream",
          "name": "stdout",
          "text": [
            "Phường nào có tốc độ tăng trưởng dân số cao nhất:Phu Huu, District 9\n"
          ]
        }
      ]
    },
    {
      "cell_type": "code",
      "metadata": {
        "colab": {
          "base_uri": "https://localhost:8080/"
        },
        "id": "Hy813-4sh7uM",
        "outputId": "42b62b56-4fc8-41a2-ae05-8f83dfdb997a"
      },
      "source": [
        "#Phường nào có mật độ dân số cao nhất (2019)\n",
        "idx = (data['Pop_2019'] / data['Shape_Area']).idxmax\n",
        "print('Phường nào có mật độ dân số cao nhất (2019): ' + data['Com_Name'][idx] + ', ' + data['Dist_Name'][idx])"
      ],
      "execution_count": null,
      "outputs": [
        {
          "output_type": "stream",
          "name": "stdout",
          "text": [
            "Phường nào có mật độ dân số cao nhất (2019): Ward 8, District 4\n"
          ]
        }
      ]
    },
    {
      "cell_type": "code",
      "metadata": {
        "colab": {
          "base_uri": "https://localhost:8080/"
        },
        "id": "8rGyL8UkiFwi",
        "outputId": "1130e9fd-76ac-4697-da35-c3e612a5b4e2"
      },
      "source": [
        "#Phường nào có mật độ dân số thấp nhất (2019)\n",
        "idx = (data['Pop_2019'] / data['Shape_Area']).idxmin\n",
        "print('#Phường nào có mật độ dân số thấp nhất (2019): ' + data['Com_Name'][idx] + ', ' + data['Dist_Name'][idx])"
      ],
      "execution_count": null,
      "outputs": [
        {
          "output_type": "stream",
          "name": "stdout",
          "text": [
            "#Phường nào có mật độ dân số thấp nhất (2019): Ly Nhon, Can Gio\n"
          ]
        }
      ]
    }
  ]
}
