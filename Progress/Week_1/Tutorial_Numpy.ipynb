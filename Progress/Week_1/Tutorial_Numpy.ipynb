{
  "nbformat": 4,
  "nbformat_minor": 0,
  "metadata": {
    "colab": {
      "name": "Tutorial_Numpy.ipynb",
      "provenance": [],
      "collapsed_sections": [],
      "authorship_tag": "ABX9TyMEtUBuR8XjkFoUOdyYLkZb",
      "include_colab_link": true
    },
    "kernelspec": {
      "name": "python3",
      "display_name": "Python 3"
    },
    "language_info": {
      "name": "python"
    }
  },
  "cells": [
    {
      "cell_type": "markdown",
      "metadata": {
        "id": "view-in-github",
        "colab_type": "text"
      },
      "source": [
        "<a href=\"https://colab.research.google.com/github/trong-khanh-1109/CS116.M12.KHCL/blob/main/Tutorial_Numpy.ipynb\" target=\"_parent\"><img src=\"https://colab.research.google.com/assets/colab-badge.svg\" alt=\"Open In Colab\"/></a>"
      ]
    },
    {
      "cell_type": "code",
      "metadata": {
        "id": "ciaRjP5empAQ"
      },
      "source": [
        "import numpy as np"
      ],
      "execution_count": 1,
      "outputs": []
    },
    {
      "cell_type": "markdown",
      "metadata": {
        "id": "hEhXkoO8nk1h"
      },
      "source": [
        "#Creating Numpy Arrays from Python lists"
      ]
    },
    {
      "cell_type": "code",
      "metadata": {
        "colab": {
          "base_uri": "https://localhost:8080/"
        },
        "id": "MjjqssJ9oDuf",
        "outputId": "438e12d3-48b4-4639-804a-9b6cd317e6f5"
      },
      "source": [
        "np.array([1, 2, 3, 4])"
      ],
      "execution_count": 2,
      "outputs": [
        {
          "output_type": "execute_result",
          "data": {
            "text/plain": [
              "array([1, 2, 3, 4])"
            ]
          },
          "metadata": {},
          "execution_count": 2
        }
      ]
    },
    {
      "cell_type": "code",
      "metadata": {
        "colab": {
          "base_uri": "https://localhost:8080/"
        },
        "id": "DewKcIg2oeT6",
        "outputId": "f73e470c-4796-4ec7-844b-5ac03a52104b"
      },
      "source": [
        "[3.14, 4, 2, 3] # Dạng python list có thể cho phép chứa những giá trị không cùng kiểu dữ liệu"
      ],
      "execution_count": 3,
      "outputs": [
        {
          "output_type": "execute_result",
          "data": {
            "text/plain": [
              "[3.14, 4, 2, 3]"
            ]
          },
          "metadata": {},
          "execution_count": 3
        }
      ]
    },
    {
      "cell_type": "code",
      "metadata": {
        "colab": {
          "base_uri": "https://localhost:8080/"
        },
        "id": "avJF89cxoqJ6",
        "outputId": "5a5dd831-df55-466c-eff3-8ad821b3ca01"
      },
      "source": [
        "np.array([3.14, 4, 2, 3]) # Dạng numpy array sẽ tự động chuyển về cùng 1 kiểu dữ liệu"
      ],
      "execution_count": 4,
      "outputs": [
        {
          "output_type": "execute_result",
          "data": {
            "text/plain": [
              "array([3.14, 4.  , 2.  , 3.  ])"
            ]
          },
          "metadata": {},
          "execution_count": 4
        }
      ]
    },
    {
      "cell_type": "code",
      "metadata": {
        "colab": {
          "base_uri": "https://localhost:8080/"
        },
        "id": "2l1b8XBko21o",
        "outputId": "e12e49fa-caf8-4f45-f36c-f06bfe29ecf4"
      },
      "source": [
        "np.array([1, 2, 3, 4], dtype=\"float32\") # Dạng numpy array cho phép định dạng kiểu dữ liệu cho giá trị bằng hàm dtype (Lợi hơn dạng python list)"
      ],
      "execution_count": 7,
      "outputs": [
        {
          "output_type": "execute_result",
          "data": {
            "text/plain": [
              "array([1., 2., 3., 4.], dtype=float32)"
            ]
          },
          "metadata": {},
          "execution_count": 7
        }
      ]
    },
    {
      "cell_type": "code",
      "metadata": {
        "id": "kVUKnw0lpHXl"
      },
      "source": [
        "a1 = np.array([1, 2, 3, 4])"
      ],
      "execution_count": 6,
      "outputs": []
    },
    {
      "cell_type": "code",
      "metadata": {
        "colab": {
          "base_uri": "https://localhost:8080/"
        },
        "id": "7vr8PqAWpK5O",
        "outputId": "1972b33c-dec7-40f4-a18d-b8cd18996a6a"
      },
      "source": [
        "type(a1) # Cho ra kiểu của biến a1"
      ],
      "execution_count": 8,
      "outputs": [
        {
          "output_type": "execute_result",
          "data": {
            "text/plain": [
              "numpy.ndarray"
            ]
          },
          "metadata": {},
          "execution_count": 8
        }
      ]
    },
    {
      "cell_type": "code",
      "metadata": {
        "id": "qqnPZOhCpb-y"
      },
      "source": [
        "a2 = np.array([[1, 2, 3],\n",
        "               [4, 5, 6]]) # Mảng 2 chiều"
      ],
      "execution_count": 9,
      "outputs": []
    },
    {
      "cell_type": "code",
      "metadata": {
        "colab": {
          "base_uri": "https://localhost:8080/"
        },
        "id": "6X3o3nHFpqVc",
        "outputId": "c0893c34-f348-4996-b766-3c8c9106f402"
      },
      "source": [
        "type(a2)"
      ],
      "execution_count": 10,
      "outputs": [
        {
          "output_type": "execute_result",
          "data": {
            "text/plain": [
              "numpy.ndarray"
            ]
          },
          "metadata": {},
          "execution_count": 10
        }
      ]
    },
    {
      "cell_type": "code",
      "metadata": {
        "colab": {
          "base_uri": "https://localhost:8080/"
        },
        "id": "tCLGXsyIptLE",
        "outputId": "c53c74f8-4428-4f6c-8f26-9818fa6cbed5"
      },
      "source": [
        "a2.shape # In ra kích thước a2 (2 dòng 3 cột)"
      ],
      "execution_count": 12,
      "outputs": [
        {
          "output_type": "execute_result",
          "data": {
            "text/plain": [
              "(2, 3)"
            ]
          },
          "metadata": {},
          "execution_count": 12
        }
      ]
    },
    {
      "cell_type": "code",
      "metadata": {
        "colab": {
          "base_uri": "https://localhost:8080/"
        },
        "id": "NLfOkx13p4cZ",
        "outputId": "001fa984-6519-46cf-92df-487f935195aa"
      },
      "source": [
        "a2.ndim # Chiều của biến a2"
      ],
      "execution_count": 13,
      "outputs": [
        {
          "output_type": "execute_result",
          "data": {
            "text/plain": [
              "2"
            ]
          },
          "metadata": {},
          "execution_count": 13
        }
      ]
    },
    {
      "cell_type": "code",
      "metadata": {
        "colab": {
          "base_uri": "https://localhost:8080/"
        },
        "id": "v5q9ep64p_Bb",
        "outputId": "4404e499-52ed-4fa5-cd95-7c5924514b6a"
      },
      "source": [
        "a2.dtype # Kiểu dữ liệu của a2"
      ],
      "execution_count": 14,
      "outputs": [
        {
          "output_type": "execute_result",
          "data": {
            "text/plain": [
              "dtype('int64')"
            ]
          },
          "metadata": {},
          "execution_count": 14
        }
      ]
    },
    {
      "cell_type": "code",
      "metadata": {
        "colab": {
          "base_uri": "https://localhost:8080/"
        },
        "id": "cIKQYnvvqKuc",
        "outputId": "6b49d0e9-d818-4beb-d48a-7ac05019002d"
      },
      "source": [
        "a2.size # Số lượng phần tử trong a2"
      ],
      "execution_count": 15,
      "outputs": [
        {
          "output_type": "execute_result",
          "data": {
            "text/plain": [
              "6"
            ]
          },
          "metadata": {},
          "execution_count": 15
        }
      ]
    },
    {
      "cell_type": "markdown",
      "metadata": {
        "id": "vdK2WBxvqTzu"
      },
      "source": [
        "#Creating Numpy Arrays from Scratch: Tạo numpy array bằng các hàm có sẵn "
      ]
    },
    {
      "cell_type": "markdown",
      "metadata": {
        "id": "8UwYeRHTqqCL"
      },
      "source": [
        "###zeros, ones, full, arange, linspace"
      ]
    },
    {
      "cell_type": "code",
      "metadata": {
        "colab": {
          "base_uri": "https://localhost:8080/"
        },
        "id": "j-SKQ5aVqPY2",
        "outputId": "17e7454e-bdf1-4cb7-c9be-94ab509b91f2"
      },
      "source": [
        "np.zeros((2, 4), dtype = \"int64\")"
      ],
      "execution_count": 21,
      "outputs": [
        {
          "output_type": "execute_result",
          "data": {
            "text/plain": [
              "array([[0, 0, 0, 0],\n",
              "       [0, 0, 0, 0]])"
            ]
          },
          "metadata": {},
          "execution_count": 21
        }
      ]
    },
    {
      "cell_type": "code",
      "metadata": {
        "colab": {
          "base_uri": "https://localhost:8080/"
        },
        "id": "snDynmqCrW8l",
        "outputId": "8dc575b6-7ef7-4718-b118-e17103dd320f"
      },
      "source": [
        "np.ones((3, 3), dtype=float)"
      ],
      "execution_count": 22,
      "outputs": [
        {
          "output_type": "execute_result",
          "data": {
            "text/plain": [
              "array([[1., 1., 1.],\n",
              "       [1., 1., 1.],\n",
              "       [1., 1., 1.]])"
            ]
          },
          "metadata": {},
          "execution_count": 22
        }
      ]
    },
    {
      "cell_type": "code",
      "metadata": {
        "colab": {
          "base_uri": "https://localhost:8080/"
        },
        "id": "y3Cjbx9LrdmC",
        "outputId": "6bde073f-2dc9-447e-9fe6-ad0652a17b03"
      },
      "source": [
        "np.arange(0, 20, 2) # Tạo ra array có giá trị từ 0 - 20 với bước nhảy 2"
      ],
      "execution_count": 23,
      "outputs": [
        {
          "output_type": "execute_result",
          "data": {
            "text/plain": [
              "array([ 0,  2,  4,  6,  8, 10, 12, 14, 16, 18])"
            ]
          },
          "metadata": {},
          "execution_count": 23
        }
      ]
    },
    {
      "cell_type": "code",
      "metadata": {
        "colab": {
          "base_uri": "https://localhost:8080/"
        },
        "id": "pircpk7PsQt5",
        "outputId": "db61482f-0429-41d6-fbed-7b403eb2fb81"
      },
      "source": [
        "np.full((3, 5), 6)"
      ],
      "execution_count": 24,
      "outputs": [
        {
          "output_type": "execute_result",
          "data": {
            "text/plain": [
              "array([[6, 6, 6, 6, 6],\n",
              "       [6, 6, 6, 6, 6],\n",
              "       [6, 6, 6, 6, 6]])"
            ]
          },
          "metadata": {},
          "execution_count": 24
        }
      ]
    },
    {
      "cell_type": "code",
      "metadata": {
        "colab": {
          "base_uri": "https://localhost:8080/"
        },
        "id": "hAeta94rsgzt",
        "outputId": "cfe67c6e-defd-47f7-dc85-c4913580f953"
      },
      "source": [
        "np.linspace(0, 1, 5) # Tạo ra 5 phần bằng nhau trong đoạn 0 - 1"
      ],
      "execution_count": 25,
      "outputs": [
        {
          "output_type": "execute_result",
          "data": {
            "text/plain": [
              "array([0.  , 0.25, 0.5 , 0.75, 1.  ])"
            ]
          },
          "metadata": {},
          "execution_count": 25
        }
      ]
    },
    {
      "cell_type": "markdown",
      "metadata": {
        "id": "T9evXtG_sy3p"
      },
      "source": [
        "###Random"
      ]
    },
    {
      "cell_type": "code",
      "metadata": {
        "colab": {
          "base_uri": "https://localhost:8080/"
        },
        "id": "BCyqJpLps0Rs",
        "outputId": "d69aa818-0695-4090-fea5-8e1118e9415b"
      },
      "source": [
        "# Seed for preproducibility\n",
        "np.random.seed(0) # Thêm này để các giá trị random ở các nơi khác sẽ luôn giống với mình\n",
        "\n",
        "np.random.random((4, 4))"
      ],
      "execution_count": 29,
      "outputs": [
        {
          "output_type": "execute_result",
          "data": {
            "text/plain": [
              "array([[0.5488135 , 0.71518937, 0.60276338, 0.54488318],\n",
              "       [0.4236548 , 0.64589411, 0.43758721, 0.891773  ],\n",
              "       [0.96366276, 0.38344152, 0.79172504, 0.52889492],\n",
              "       [0.56804456, 0.92559664, 0.07103606, 0.0871293 ]])"
            ]
          },
          "metadata": {},
          "execution_count": 29
        }
      ]
    },
    {
      "cell_type": "code",
      "metadata": {
        "colab": {
          "base_uri": "https://localhost:8080/"
        },
        "id": "xuOnmyXhuri-",
        "outputId": "d6a2bf09-7763-48d4-f843-dbebea7fbdf4"
      },
      "source": [
        "np.random.rand(4, 4) # Giống random nhưng khác cách nhập size"
      ],
      "execution_count": 33,
      "outputs": [
        {
          "output_type": "execute_result",
          "data": {
            "text/plain": [
              "array([[0.99529957, 0.58185033, 0.41436859, 0.4746975 ],\n",
              "       [0.6235101 , 0.33800761, 0.67475232, 0.31720174],\n",
              "       [0.77834548, 0.94957105, 0.66252687, 0.01357164],\n",
              "       [0.6228461 , 0.67365963, 0.971945  , 0.87819347]])"
            ]
          },
          "metadata": {},
          "execution_count": 33
        }
      ]
    },
    {
      "cell_type": "code",
      "metadata": {
        "colab": {
          "base_uri": "https://localhost:8080/"
        },
        "id": "lxSWOaQPuA5O",
        "outputId": "e7bed509-60de-4e13-8a6a-3d4e08f43766"
      },
      "source": [
        "np.random.normal(0 , 1, (3, 3))"
      ],
      "execution_count": 31,
      "outputs": [
        {
          "output_type": "execute_result",
          "data": {
            "text/plain": [
              "array([[-0.74216502,  2.26975462, -1.45436567],\n",
              "       [ 0.04575852, -0.18718385,  1.53277921],\n",
              "       [ 1.46935877,  0.15494743,  0.37816252]])"
            ]
          },
          "metadata": {},
          "execution_count": 31
        }
      ]
    },
    {
      "cell_type": "code",
      "metadata": {
        "colab": {
          "base_uri": "https://localhost:8080/"
        },
        "id": "1-g9JXl2uLE8",
        "outputId": "ed76f3f8-5e02-4e1b-d90d-2bb2e6b7f52b"
      },
      "source": [
        "np.random.randint(0, 10, (4, 5)) # Tạo ra numpy array với các số từ 0 - 9, không có 10"
      ],
      "execution_count": 32,
      "outputs": [
        {
          "output_type": "execute_result",
          "data": {
            "text/plain": [
              "array([[8, 1, 1, 7, 9],\n",
              "       [9, 3, 6, 7, 2],\n",
              "       [0, 3, 5, 9, 4],\n",
              "       [4, 6, 4, 4, 3]])"
            ]
          },
          "metadata": {},
          "execution_count": 32
        }
      ]
    },
    {
      "cell_type": "markdown",
      "metadata": {
        "id": "txGO6zzeu9ij"
      },
      "source": [
        "# Array Indexing and Slicing: Truy cập vào các phần tử trong array"
      ]
    },
    {
      "cell_type": "markdown",
      "metadata": {
        "id": "yDMJ1KtDvOpO"
      },
      "source": [
        "###One-dimentional subarrray(Mảng 1 chiều)"
      ]
    },
    {
      "cell_type": "code",
      "metadata": {
        "id": "fOurdVPCvItE"
      },
      "source": [
        "x1 = np.random.randint(20, size = 6)"
      ],
      "execution_count": 43,
      "outputs": []
    },
    {
      "cell_type": "code",
      "metadata": {
        "colab": {
          "base_uri": "https://localhost:8080/"
        },
        "id": "6Bdm12TqvavA",
        "outputId": "fc12667b-cd18-4b89-bcc9-269e11cb9e62"
      },
      "source": [
        "x1"
      ],
      "execution_count": 44,
      "outputs": [
        {
          "output_type": "execute_result",
          "data": {
            "text/plain": [
              "array([14,  9,  1,  4, 10, 11])"
            ]
          },
          "metadata": {},
          "execution_count": 44
        }
      ]
    },
    {
      "cell_type": "code",
      "metadata": {
        "colab": {
          "base_uri": "https://localhost:8080/"
        },
        "id": "abUuHq1uvnb0",
        "outputId": "77cbd918-713f-4b7e-bd9b-5b7633f53b32"
      },
      "source": [
        "x1[4], x1[0], x1[-1]"
      ],
      "execution_count": 45,
      "outputs": [
        {
          "output_type": "execute_result",
          "data": {
            "text/plain": [
              "(10, 14, 11)"
            ]
          },
          "metadata": {},
          "execution_count": 45
        }
      ]
    },
    {
      "cell_type": "markdown",
      "metadata": {
        "id": "jXxxpFauvvsx"
      },
      "source": [
        "###Multi-dimentional arrray(Mảng 1 chiều)"
      ]
    },
    {
      "cell_type": "code",
      "metadata": {
        "id": "CzbiBtqzv1zo"
      },
      "source": [
        "x2 = np.random.randint(20, size = (3, 4))"
      ],
      "execution_count": 48,
      "outputs": []
    },
    {
      "cell_type": "code",
      "metadata": {
        "colab": {
          "base_uri": "https://localhost:8080/"
        },
        "id": "n_ByIU0Hv9zE",
        "outputId": "a6c59931-b538-45fa-c5e3-2a96908077c3"
      },
      "source": [
        "x2"
      ],
      "execution_count": 49,
      "outputs": [
        {
          "output_type": "execute_result",
          "data": {
            "text/plain": [
              "array([[ 8, 11,  2, 19],\n",
              "       [16,  0,  0,  6],\n",
              "       [19, 14, 10, 19]])"
            ]
          },
          "metadata": {},
          "execution_count": 49
        }
      ]
    },
    {
      "cell_type": "code",
      "metadata": {
        "colab": {
          "base_uri": "https://localhost:8080/"
        },
        "id": "7ntloGEOwBL-",
        "outputId": "8958634d-2182-4256-a191-7b39a5276589"
      },
      "source": [
        "x2[0, 0], x2[0][0]"
      ],
      "execution_count": 50,
      "outputs": [
        {
          "output_type": "execute_result",
          "data": {
            "text/plain": [
              "(8, 8)"
            ]
          },
          "metadata": {},
          "execution_count": 50
        }
      ]
    },
    {
      "cell_type": "markdown",
      "metadata": {
        "id": "oleRcco6wMxQ"
      },
      "source": [
        "###Slicing : Cắt đoạn array\n"
      ]
    },
    {
      "cell_type": "markdown",
      "metadata": {
        "id": "no4NbtcawXpz"
      },
      "source": [
        ">X[start:stop:step]"
      ]
    },
    {
      "cell_type": "code",
      "metadata": {
        "colab": {
          "base_uri": "https://localhost:8080/"
        },
        "id": "EJLjWnYKwQmA",
        "outputId": "de62bbb1-8bbe-44a7-8ba9-91c902c6bd90"
      },
      "source": [
        "x1[0:3]"
      ],
      "execution_count": 46,
      "outputs": [
        {
          "output_type": "execute_result",
          "data": {
            "text/plain": [
              "array([14,  9,  1])"
            ]
          },
          "metadata": {},
          "execution_count": 46
        }
      ]
    },
    {
      "cell_type": "code",
      "metadata": {
        "colab": {
          "base_uri": "https://localhost:8080/"
        },
        "id": "alyIVZj-wzxL",
        "outputId": "57ba08c2-464a-467c-d177-790c398d54c2"
      },
      "source": [
        "x2[:2,:3]"
      ],
      "execution_count": 52,
      "outputs": [
        {
          "output_type": "execute_result",
          "data": {
            "text/plain": [
              "array([[ 8, 11,  2],\n",
              "       [16,  0,  0]])"
            ]
          },
          "metadata": {},
          "execution_count": 52
        }
      ]
    },
    {
      "cell_type": "markdown",
      "metadata": {
        "id": "kh06DjdvxOAy"
      },
      "source": [
        "# Reshaping of Array and Transpose"
      ]
    },
    {
      "cell_type": "code",
      "metadata": {
        "colab": {
          "base_uri": "https://localhost:8080/"
        },
        "id": "CBUmqwdQxVDQ",
        "outputId": "239ee068-6a16-40b6-a8a9-e9140561997d"
      },
      "source": [
        "grid = np.arange(1, 10)\n",
        "grid.shape"
      ],
      "execution_count": 55,
      "outputs": [
        {
          "output_type": "execute_result",
          "data": {
            "text/plain": [
              "(9,)"
            ]
          },
          "metadata": {},
          "execution_count": 55
        }
      ]
    },
    {
      "cell_type": "code",
      "metadata": {
        "colab": {
          "base_uri": "https://localhost:8080/"
        },
        "id": "tZvTBrGNxvTW",
        "outputId": "335e7273-fbdb-4526-a14a-976f7076f332"
      },
      "source": [
        "grid.reshape((3, 3)) # Đang ở kích thước 9x1 đưa về 3x3"
      ],
      "execution_count": 57,
      "outputs": [
        {
          "output_type": "execute_result",
          "data": {
            "text/plain": [
              "array([[1, 2, 3],\n",
              "       [4, 5, 6],\n",
              "       [7, 8, 9]])"
            ]
          },
          "metadata": {},
          "execution_count": 57
        }
      ]
    },
    {
      "cell_type": "code",
      "metadata": {
        "colab": {
          "base_uri": "https://localhost:8080/"
        },
        "id": "o9jDD8DzyCKP",
        "outputId": "324f8a0a-1da6-49e8-8296-d8d80c04a605"
      },
      "source": [
        "X = np.array([1, 2, 3])\n",
        "X.shape"
      ],
      "execution_count": 58,
      "outputs": [
        {
          "output_type": "execute_result",
          "data": {
            "text/plain": [
              "(3,)"
            ]
          },
          "metadata": {},
          "execution_count": 58
        }
      ]
    },
    {
      "cell_type": "code",
      "metadata": {
        "colab": {
          "base_uri": "https://localhost:8080/"
        },
        "id": "LM5BIcMXyGBD",
        "outputId": "8682ff32-fe5d-46e3-cc5f-9fb26db54aea"
      },
      "source": [
        "X.reshape((1, 3)).shape"
      ],
      "execution_count": 60,
      "outputs": [
        {
          "output_type": "execute_result",
          "data": {
            "text/plain": [
              "(1, 3)"
            ]
          },
          "metadata": {},
          "execution_count": 60
        }
      ]
    },
    {
      "cell_type": "code",
      "metadata": {
        "colab": {
          "base_uri": "https://localhost:8080/"
        },
        "id": "q-SoUumhyc2I",
        "outputId": "c75164b6-5b30-42e1-943e-40d564b5ee1a"
      },
      "source": [
        "x = np.array([[1., 2.], [3., 4.]])\n",
        "x"
      ],
      "execution_count": 62,
      "outputs": [
        {
          "output_type": "execute_result",
          "data": {
            "text/plain": [
              "array([[1., 2.],\n",
              "       [3., 4.]])"
            ]
          },
          "metadata": {},
          "execution_count": 62
        }
      ]
    },
    {
      "cell_type": "code",
      "metadata": {
        "colab": {
          "base_uri": "https://localhost:8080/"
        },
        "id": "sCxnKoIaylpU",
        "outputId": "46d63aa1-af5b-45e7-b68c-0a340effd740"
      },
      "source": [
        "x.T # Chuyển vị"
      ],
      "execution_count": 63,
      "outputs": [
        {
          "output_type": "execute_result",
          "data": {
            "text/plain": [
              "array([[1., 3.],\n",
              "       [2., 4.]])"
            ]
          },
          "metadata": {},
          "execution_count": 63
        }
      ]
    },
    {
      "cell_type": "markdown",
      "metadata": {
        "id": "Iylv-NnAyquP"
      },
      "source": [
        "# Array Concatenation and Splitting"
      ]
    },
    {
      "cell_type": "code",
      "metadata": {
        "id": "3WWobWbTy67z"
      },
      "source": [
        "x = np.array([1, 2, 3])\n",
        "y = np.array([3, 2, 1])"
      ],
      "execution_count": 65,
      "outputs": []
    },
    {
      "cell_type": "code",
      "metadata": {
        "colab": {
          "base_uri": "https://localhost:8080/"
        },
        "id": "Vvh2emuezGhp",
        "outputId": "d7c73a93-047f-46b0-f70f-5ef0b87e9db3"
      },
      "source": [
        "np.concatenate((x, y)) # Nối 2 mảng"
      ],
      "execution_count": 66,
      "outputs": [
        {
          "output_type": "execute_result",
          "data": {
            "text/plain": [
              "array([1, 2, 3, 3, 2, 1])"
            ]
          },
          "metadata": {},
          "execution_count": 66
        }
      ]
    },
    {
      "cell_type": "code",
      "metadata": {
        "colab": {
          "base_uri": "https://localhost:8080/"
        },
        "id": "11zGgy6Az2MF",
        "outputId": "20d38b33-e28f-461a-ba25-78a79153a845"
      },
      "source": [
        "grid = np.array([[1, 2, 3],\n",
        "                 [4, 5, 6]]) \n",
        "grid"
      ],
      "execution_count": 67,
      "outputs": [
        {
          "output_type": "execute_result",
          "data": {
            "text/plain": [
              "array([[1, 2, 3],\n",
              "       [4, 5, 6]])"
            ]
          },
          "metadata": {},
          "execution_count": 67
        }
      ]
    },
    {
      "cell_type": "code",
      "metadata": {
        "colab": {
          "base_uri": "https://localhost:8080/"
        },
        "id": "IROcSkbw0Fn7",
        "outputId": "7c013dcb-c82d-4b79-fcc5-284347214612"
      },
      "source": [
        "np.concatenate((grid, grid)) # Mặc định axis = 0 (Nối vào row)"
      ],
      "execution_count": 68,
      "outputs": [
        {
          "output_type": "execute_result",
          "data": {
            "text/plain": [
              "array([[1, 2, 3],\n",
              "       [4, 5, 6],\n",
              "       [1, 2, 3],\n",
              "       [4, 5, 6]])"
            ]
          },
          "metadata": {},
          "execution_count": 68
        }
      ]
    },
    {
      "cell_type": "code",
      "metadata": {
        "colab": {
          "base_uri": "https://localhost:8080/"
        },
        "id": "kw1uhYIc0P0h",
        "outputId": "e860325c-42e3-4fd2-98d4-15198b278870"
      },
      "source": [
        "np.concatenate((grid, grid), axis = 1) # Nối vào từng col"
      ],
      "execution_count": 69,
      "outputs": [
        {
          "output_type": "execute_result",
          "data": {
            "text/plain": [
              "array([[1, 2, 3, 1, 2, 3],\n",
              "       [4, 5, 6, 4, 5, 6]])"
            ]
          },
          "metadata": {},
          "execution_count": 69
        }
      ]
    },
    {
      "cell_type": "code",
      "metadata": {
        "id": "sSptsghN0yEj"
      },
      "source": [
        "#vstack\n",
        "x = np.array([1, 2, 3])\n",
        "\n",
        "grid = np.array([[9, 8, 7],\n",
        "                 [6, 5, 4]])"
      ],
      "execution_count": 70,
      "outputs": []
    },
    {
      "cell_type": "code",
      "metadata": {
        "colab": {
          "base_uri": "https://localhost:8080/"
        },
        "id": "iZmzJSTY1HFZ",
        "outputId": "6d12621e-5b0e-479a-ded5-acf4adf00476"
      },
      "source": [
        "np.vstack((x, grid)) # Nối theo row"
      ],
      "execution_count": 71,
      "outputs": [
        {
          "output_type": "execute_result",
          "data": {
            "text/plain": [
              "array([[1, 2, 3],\n",
              "       [9, 8, 7],\n",
              "       [6, 5, 4]])"
            ]
          },
          "metadata": {},
          "execution_count": 71
        }
      ]
    },
    {
      "cell_type": "code",
      "metadata": {
        "id": "aKddluRV1OLv"
      },
      "source": [
        "y = np.array([[99],\n",
        "              [98]])"
      ],
      "execution_count": 72,
      "outputs": []
    },
    {
      "cell_type": "code",
      "metadata": {
        "colab": {
          "base_uri": "https://localhost:8080/"
        },
        "id": "CILMRjvZ1VT-",
        "outputId": "9177d96f-0eb4-4d55-dd51-3a81fe834791"
      },
      "source": [
        "np.hstack((y, grid)) # Nối theo col"
      ],
      "execution_count": 73,
      "outputs": [
        {
          "output_type": "execute_result",
          "data": {
            "text/plain": [
              "array([[99,  9,  8,  7],\n",
              "       [98,  6,  5,  4]])"
            ]
          },
          "metadata": {},
          "execution_count": 73
        }
      ]
    },
    {
      "cell_type": "markdown",
      "metadata": {
        "id": "ZVkz4WXw1bPm"
      },
      "source": [
        "###Splitting\n"
      ]
    },
    {
      "cell_type": "code",
      "metadata": {
        "id": "nX4xz-Mp1ejW"
      },
      "source": [
        "x = np.array([1, 2, 3, 99, 69, 3, 2, 1])"
      ],
      "execution_count": 75,
      "outputs": []
    },
    {
      "cell_type": "code",
      "metadata": {
        "id": "OJVhIA2M1xuk"
      },
      "source": [
        "x1, x2, x3 = np.split(x, (3, 5))"
      ],
      "execution_count": 81,
      "outputs": []
    },
    {
      "cell_type": "markdown",
      "metadata": {
        "id": "bVhWizqI2oB5"
      },
      "source": [
        "#Broadcasting and Vectorized operations"
      ]
    },
    {
      "cell_type": "code",
      "metadata": {
        "id": "885oVdaz2qA-"
      },
      "source": [
        "a = np.arange(0,3)"
      ],
      "execution_count": 105,
      "outputs": []
    },
    {
      "cell_type": "code",
      "metadata": {
        "colab": {
          "base_uri": "https://localhost:8080/"
        },
        "id": "G2QkbAh82wMV",
        "outputId": "93275210-9536-409d-adb2-58c46d1bcf76"
      },
      "source": [
        "a + 5"
      ],
      "execution_count": 106,
      "outputs": [
        {
          "output_type": "execute_result",
          "data": {
            "text/plain": [
              "array([5, 6, 7])"
            ]
          },
          "metadata": {},
          "execution_count": 106
        }
      ]
    },
    {
      "cell_type": "code",
      "metadata": {
        "id": "BDKu_gKc21DI"
      },
      "source": [
        "b = np.ones((3, 3))"
      ],
      "execution_count": 87,
      "outputs": []
    },
    {
      "cell_type": "code",
      "metadata": {
        "colab": {
          "base_uri": "https://localhost:8080/"
        },
        "id": "K_CiZLWs25bG",
        "outputId": "0b141036-a7c9-43d0-e5f7-63dab910476c"
      },
      "source": [
        "b"
      ],
      "execution_count": 88,
      "outputs": [
        {
          "output_type": "execute_result",
          "data": {
            "text/plain": [
              "array([[1., 1., 1.],\n",
              "       [1., 1., 1.],\n",
              "       [1., 1., 1.]])"
            ]
          },
          "metadata": {},
          "execution_count": 88
        }
      ]
    },
    {
      "cell_type": "code",
      "metadata": {
        "colab": {
          "base_uri": "https://localhost:8080/"
        },
        "id": "JTzDqJ3J29Qu",
        "outputId": "aa0e201e-e375-4489-f198-7f8c30bdeee6"
      },
      "source": [
        "a + b # Tự động thêm các giá trị cho a để có kích thước bằng với b để thực hiện + (Các giá trị đó đều là của a)"
      ],
      "execution_count": 89,
      "outputs": [
        {
          "output_type": "execute_result",
          "data": {
            "text/plain": [
              "array([[1., 2., 3.],\n",
              "       [1., 2., 3.],\n",
              "       [1., 2., 3.]])"
            ]
          },
          "metadata": {},
          "execution_count": 89
        }
      ]
    },
    {
      "cell_type": "code",
      "metadata": {
        "colab": {
          "base_uri": "https://localhost:8080/"
        },
        "id": "zjOh6PDQ3Lz1",
        "outputId": "b04fe310-2d81-469a-b1ef-407a4a41a9b3"
      },
      "source": [
        "c = np.arange(3).reshape((3, 1))\n",
        "c"
      ],
      "execution_count": 101,
      "outputs": [
        {
          "output_type": "execute_result",
          "data": {
            "text/plain": [
              "array([[0],\n",
              "       [1],\n",
              "       [2]])"
            ]
          },
          "metadata": {},
          "execution_count": 101
        }
      ]
    },
    {
      "cell_type": "code",
      "metadata": {
        "colab": {
          "base_uri": "https://localhost:8080/"
        },
        "id": "iCphBHFX4X1K",
        "outputId": "c7093b11-d648-4619-9f3d-f0c51a8cac6b"
      },
      "source": [
        "a + c"
      ],
      "execution_count": 107,
      "outputs": [
        {
          "output_type": "execute_result",
          "data": {
            "text/plain": [
              "array([[0, 1, 2],\n",
              "       [1, 2, 3],\n",
              "       [2, 3, 4]])"
            ]
          },
          "metadata": {},
          "execution_count": 107
        }
      ]
    },
    {
      "cell_type": "markdown",
      "metadata": {
        "id": "MiDcPHLv74Kw"
      },
      "source": [
        "# Ứng dụng numpy trong xác suất thống kê"
      ]
    },
    {
      "cell_type": "code",
      "metadata": {
        "colab": {
          "base_uri": "https://localhost:8080/"
        },
        "id": "Z0_H5IxQ75At",
        "outputId": "aa84c367-50d0-4703-f4ec-07d9b80273fb"
      },
      "source": [
        "dog_height = [600, 470, 170, 430, 300]\n",
        "dog_height= np.array(dog_height)\n",
        "\n",
        "np.std(dog_height) # Độ lệch chuẩn"
      ],
      "execution_count": 109,
      "outputs": [
        {
          "output_type": "execute_result",
          "data": {
            "text/plain": [
              "147.32277488562318"
            ]
          },
          "metadata": {},
          "execution_count": 109
        }
      ]
    },
    {
      "cell_type": "code",
      "metadata": {
        "colab": {
          "base_uri": "https://localhost:8080/"
        },
        "id": "StElH1LO8SWx",
        "outputId": "1d8e8798-9c2c-41a8-f692-286cdfbc6180"
      },
      "source": [
        "np.var(dog_height) # Phương sai"
      ],
      "execution_count": 110,
      "outputs": [
        {
          "output_type": "execute_result",
          "data": {
            "text/plain": [
              "21704.0"
            ]
          },
          "metadata": {},
          "execution_count": 110
        }
      ]
    },
    {
      "cell_type": "code",
      "metadata": {
        "colab": {
          "base_uri": "https://localhost:8080/"
        },
        "id": "VsNyxWpl8Z9c",
        "outputId": "90393d12-e8a9-4e58-a4c7-1cb792b83927"
      },
      "source": [
        "np.sqrt(np.var(dog_height)) # Cách tính thứ 2 của độ lệnh chuẩn"
      ],
      "execution_count": 111,
      "outputs": [
        {
          "output_type": "execute_result",
          "data": {
            "text/plain": [
              "147.32277488562318"
            ]
          },
          "metadata": {},
          "execution_count": 111
        }
      ]
    },
    {
      "cell_type": "markdown",
      "metadata": {
        "id": "lGSMCjX-8qVy"
      },
      "source": [
        "# Sorting array"
      ]
    },
    {
      "cell_type": "markdown",
      "metadata": {
        "id": "w9gZljOc8vI3"
      },
      "source": [
        ">np.sort: Được thực hiện dựa trên giải thuật quicksort"
      ]
    },
    {
      "cell_type": "code",
      "metadata": {
        "colab": {
          "base_uri": "https://localhost:8080/"
        },
        "id": "A4kWmJLq8sSv",
        "outputId": "4017ecd1-1604-4b4c-a972-83548f9417c2"
      },
      "source": [
        "x = np.array([2, 1, 4, 3, 5])\n",
        "np.sort(x)"
      ],
      "execution_count": 113,
      "outputs": [
        {
          "output_type": "execute_result",
          "data": {
            "text/plain": [
              "array([1, 2, 3, 4, 5])"
            ]
          },
          "metadata": {},
          "execution_count": 113
        }
      ]
    },
    {
      "cell_type": "code",
      "metadata": {
        "id": "s7-5gcqx9EY5"
      },
      "source": [
        "np.argsort(x) # Lấy ra các index của giá trị sau khi đã sort"
      ],
      "execution_count": null,
      "outputs": []
    },
    {
      "cell_type": "markdown",
      "metadata": {
        "id": "5ZcELnMh9Ql_"
      },
      "source": [
        "# Sorting along rows or columns : Sort mảng đa chiều"
      ]
    },
    {
      "cell_type": "code",
      "metadata": {
        "id": "_Jq2cwFw9U8T"
      },
      "source": [
        "np.random.seed(42)\n",
        "\n",
        "MatA = np.random.randint(0, 10, size = (4, 6))"
      ],
      "execution_count": 115,
      "outputs": []
    },
    {
      "cell_type": "code",
      "metadata": {
        "colab": {
          "base_uri": "https://localhost:8080/"
        },
        "id": "u_PajX8M9lAp",
        "outputId": "0e959595-d71e-43d1-97b8-39ca9c89680f"
      },
      "source": [
        "MatA"
      ],
      "execution_count": 116,
      "outputs": [
        {
          "output_type": "execute_result",
          "data": {
            "text/plain": [
              "array([[6, 3, 7, 4, 6, 9],\n",
              "       [2, 6, 7, 4, 3, 7],\n",
              "       [7, 2, 5, 4, 1, 7],\n",
              "       [5, 1, 4, 0, 9, 5]])"
            ]
          },
          "metadata": {},
          "execution_count": 116
        }
      ]
    },
    {
      "cell_type": "code",
      "metadata": {
        "colab": {
          "base_uri": "https://localhost:8080/"
        },
        "id": "2u4LHkDr9uWq",
        "outputId": "45ead614-02e0-47d1-89cf-eb8fd8f1dd19"
      },
      "source": [
        "np.sort(MatA, axis = 0) # Sắp xếp theo cột"
      ],
      "execution_count": 117,
      "outputs": [
        {
          "output_type": "execute_result",
          "data": {
            "text/plain": [
              "array([[2, 1, 4, 0, 1, 5],\n",
              "       [5, 2, 5, 4, 3, 7],\n",
              "       [6, 3, 7, 4, 6, 7],\n",
              "       [7, 6, 7, 4, 9, 9]])"
            ]
          },
          "metadata": {},
          "execution_count": 117
        }
      ]
    },
    {
      "cell_type": "code",
      "metadata": {
        "colab": {
          "base_uri": "https://localhost:8080/"
        },
        "id": "K11ITepg9zNR",
        "outputId": "1e7deb5f-a9c5-4af5-9658-767b0a2f2606"
      },
      "source": [
        "np.sort(MatA, axis = 1) # Sắp xếp theo hàng"
      ],
      "execution_count": 118,
      "outputs": [
        {
          "output_type": "execute_result",
          "data": {
            "text/plain": [
              "array([[3, 4, 6, 6, 7, 9],\n",
              "       [2, 3, 4, 6, 7, 7],\n",
              "       [1, 2, 4, 5, 7, 7],\n",
              "       [0, 1, 4, 5, 5, 9]])"
            ]
          },
          "metadata": {},
          "execution_count": 118
        }
      ]
    },
    {
      "cell_type": "markdown",
      "metadata": {
        "id": "LaCqGTZq99To"
      },
      "source": [
        "#Linear Algebra(Đại số tuyến tính)"
      ]
    },
    {
      "cell_type": "code",
      "metadata": {
        "id": "BZeeti2P9_q6"
      },
      "source": [
        "A = np.array([\n",
        "    [1, 2, 3],\n",
        "    [4, 5, 6],\n",
        "    [7, 8, 9]\n",
        "])"
      ],
      "execution_count": 120,
      "outputs": []
    },
    {
      "cell_type": "code",
      "metadata": {
        "id": "514giA5--G6Y"
      },
      "source": [
        "B = np.array([\n",
        "    [6, 5],\n",
        "    [4, 3],\n",
        "    [2, 1]\n",
        "])"
      ],
      "execution_count": 121,
      "outputs": []
    },
    {
      "cell_type": "code",
      "metadata": {
        "colab": {
          "base_uri": "https://localhost:8080/"
        },
        "id": "G1HtCn6Z-Hje",
        "outputId": "3ccbbae0-af99-4ce7-d862-c72216e6ded7"
      },
      "source": [
        "# Nhân 2 ma trận\n",
        "A.dot(B) #Cách 1"
      ],
      "execution_count": 122,
      "outputs": [
        {
          "output_type": "execute_result",
          "data": {
            "text/plain": [
              "array([[20, 14],\n",
              "       [56, 41],\n",
              "       [92, 68]])"
            ]
          },
          "metadata": {},
          "execution_count": 122
        }
      ]
    },
    {
      "cell_type": "code",
      "metadata": {
        "colab": {
          "base_uri": "https://localhost:8080/"
        },
        "id": "meng4V_I-Tnt",
        "outputId": "f76a52a8-fa9c-48bf-9d17-0be0b0e33b7b"
      },
      "source": [
        "np.dot(A, B) #Cách 2"
      ],
      "execution_count": 123,
      "outputs": [
        {
          "output_type": "execute_result",
          "data": {
            "text/plain": [
              "array([[20, 14],\n",
              "       [56, 41],\n",
              "       [92, 68]])"
            ]
          },
          "metadata": {},
          "execution_count": 123
        }
      ]
    },
    {
      "cell_type": "code",
      "metadata": {
        "colab": {
          "base_uri": "https://localhost:8080/"
        },
        "id": "042yi91P-cyh",
        "outputId": "b35117b1-d341-42d4-9d9e-39caab418f93"
      },
      "source": [
        "A @ B #Cách 3"
      ],
      "execution_count": 124,
      "outputs": [
        {
          "output_type": "execute_result",
          "data": {
            "text/plain": [
              "array([[20, 14],\n",
              "       [56, 41],\n",
              "       [92, 68]])"
            ]
          },
          "metadata": {},
          "execution_count": 124
        }
      ]
    },
    {
      "cell_type": "code",
      "metadata": {
        "colab": {
          "base_uri": "https://localhost:8080/"
        },
        "id": "8QtkBQDQ-noi",
        "outputId": "d365dcd6-6fe6-4d2c-9e47-675911b401e7"
      },
      "source": [
        "B.T #(2, 3)"
      ],
      "execution_count": 125,
      "outputs": [
        {
          "output_type": "execute_result",
          "data": {
            "text/plain": [
              "array([[6, 4, 2],\n",
              "       [5, 3, 1]])"
            ]
          },
          "metadata": {},
          "execution_count": 125
        }
      ]
    },
    {
      "cell_type": "code",
      "metadata": {
        "colab": {
          "base_uri": "https://localhost:8080/"
        },
        "id": "uVXCqSyW-tUl",
        "outputId": "7918e6f1-94e4-40d3-b43d-32d7f2a5fb56"
      },
      "source": [
        "B.T @ A"
      ],
      "execution_count": 126,
      "outputs": [
        {
          "output_type": "execute_result",
          "data": {
            "text/plain": [
              "array([[36, 48, 60],\n",
              "       [24, 33, 42]])"
            ]
          },
          "metadata": {},
          "execution_count": 126
        }
      ]
    },
    {
      "cell_type": "markdown",
      "metadata": {
        "id": "slLWT0Lu-05I"
      },
      "source": [
        "###Dot product example (Ví dụ về tích vô hướng 2 ma trận)"
      ]
    },
    {
      "cell_type": "code",
      "metadata": {
        "id": "20pb59wW-7f5"
      },
      "source": [
        "np.random.seed(0)\n",
        "\n",
        "sale_amounts = np.random.randint(0, 20, size=(5, 3))"
      ],
      "execution_count": 127,
      "outputs": []
    },
    {
      "cell_type": "code",
      "metadata": {
        "colab": {
          "base_uri": "https://localhost:8080/"
        },
        "id": "IJoiFGQi_HOc",
        "outputId": "197c60e5-707f-4a95-f2fe-0112b35be3e0"
      },
      "source": [
        "sale_amounts"
      ],
      "execution_count": 130,
      "outputs": [
        {
          "output_type": "execute_result",
          "data": {
            "text/plain": [
              "array([[12, 15,  0],\n",
              "       [ 3,  3,  7],\n",
              "       [ 9, 19, 18],\n",
              "       [ 4,  6, 12],\n",
              "       [ 1,  6,  7]])"
            ]
          },
          "metadata": {},
          "execution_count": 130
        }
      ]
    },
    {
      "cell_type": "code",
      "metadata": {
        "colab": {
          "base_uri": "https://localhost:8080/",
          "height": 204
        },
        "id": "UHTUTeFk_J_2",
        "outputId": "ae0c96c0-9395-4569-d6fd-5bb699091088"
      },
      "source": [
        "# Create weekly_sales DataFrame\n",
        "import pandas as pd\n",
        "\n",
        "weekly_sales = pd.DataFrame(sale_amounts, index = [\"Mon\", \"Tues\", \"wed\", \"Thurs\", \"Fri\"],\n",
        "                                           columns=[\"Almond butter\", \"Peanut Butter\", \"Cashew Butter\"])\n",
        "weekly_sales\n"
      ],
      "execution_count": 131,
      "outputs": [
        {
          "output_type": "execute_result",
          "data": {
            "text/html": [
              "<div>\n",
              "<style scoped>\n",
              "    .dataframe tbody tr th:only-of-type {\n",
              "        vertical-align: middle;\n",
              "    }\n",
              "\n",
              "    .dataframe tbody tr th {\n",
              "        vertical-align: top;\n",
              "    }\n",
              "\n",
              "    .dataframe thead th {\n",
              "        text-align: right;\n",
              "    }\n",
              "</style>\n",
              "<table border=\"1\" class=\"dataframe\">\n",
              "  <thead>\n",
              "    <tr style=\"text-align: right;\">\n",
              "      <th></th>\n",
              "      <th>Almond butter</th>\n",
              "      <th>Peanut Butter</th>\n",
              "      <th>Cashew Butter</th>\n",
              "    </tr>\n",
              "  </thead>\n",
              "  <tbody>\n",
              "    <tr>\n",
              "      <th>Mon</th>\n",
              "      <td>12</td>\n",
              "      <td>15</td>\n",
              "      <td>0</td>\n",
              "    </tr>\n",
              "    <tr>\n",
              "      <th>Tues</th>\n",
              "      <td>3</td>\n",
              "      <td>3</td>\n",
              "      <td>7</td>\n",
              "    </tr>\n",
              "    <tr>\n",
              "      <th>wed</th>\n",
              "      <td>9</td>\n",
              "      <td>19</td>\n",
              "      <td>18</td>\n",
              "    </tr>\n",
              "    <tr>\n",
              "      <th>Thurs</th>\n",
              "      <td>4</td>\n",
              "      <td>6</td>\n",
              "      <td>12</td>\n",
              "    </tr>\n",
              "    <tr>\n",
              "      <th>Fri</th>\n",
              "      <td>1</td>\n",
              "      <td>6</td>\n",
              "      <td>7</td>\n",
              "    </tr>\n",
              "  </tbody>\n",
              "</table>\n",
              "</div>"
            ],
            "text/plain": [
              "       Almond butter  Peanut Butter  Cashew Butter\n",
              "Mon               12             15              0\n",
              "Tues               3              3              7\n",
              "wed                9             19             18\n",
              "Thurs              4              6             12\n",
              "Fri                1              6              7"
            ]
          },
          "metadata": {},
          "execution_count": 131
        }
      ]
    },
    {
      "cell_type": "code",
      "metadata": {
        "colab": {
          "base_uri": "https://localhost:8080/"
        },
        "id": "kUc20HFMAaxY",
        "outputId": "cf1b4113-f5c3-4324-94af-4b4c7b05b767"
      },
      "source": [
        "# Create price array\n",
        "prices = np.array([10,8,12]) # Giá các hủ butter\n",
        "prices.shape # Lúc đầu 3 hàng 1 cột nên lúc sau phải reshape lại"
      ],
      "execution_count": 133,
      "outputs": [
        {
          "output_type": "execute_result",
          "data": {
            "text/plain": [
              "(3,)"
            ]
          },
          "metadata": {},
          "execution_count": 133
        }
      ]
    },
    {
      "cell_type": "code",
      "metadata": {
        "colab": {
          "base_uri": "https://localhost:8080/",
          "height": 80
        },
        "id": "JaaZsU0UAihS",
        "outputId": "9c184861-1759-4fe1-ec5b-29bd73494848"
      },
      "source": [
        "# Create butter_prices DF\n",
        "butter_prices = pd.DataFrame(prices.reshape(1,3), index = [\"Price\"], columns=[\"Almond butter\", \"Peanut Butter\", \"Cashew Butter\"])\n",
        "butter_prices"
      ],
      "execution_count": 134,
      "outputs": [
        {
          "output_type": "execute_result",
          "data": {
            "text/html": [
              "<div>\n",
              "<style scoped>\n",
              "    .dataframe tbody tr th:only-of-type {\n",
              "        vertical-align: middle;\n",
              "    }\n",
              "\n",
              "    .dataframe tbody tr th {\n",
              "        vertical-align: top;\n",
              "    }\n",
              "\n",
              "    .dataframe thead th {\n",
              "        text-align: right;\n",
              "    }\n",
              "</style>\n",
              "<table border=\"1\" class=\"dataframe\">\n",
              "  <thead>\n",
              "    <tr style=\"text-align: right;\">\n",
              "      <th></th>\n",
              "      <th>Almond butter</th>\n",
              "      <th>Peanut Butter</th>\n",
              "      <th>Cashew Butter</th>\n",
              "    </tr>\n",
              "  </thead>\n",
              "  <tbody>\n",
              "    <tr>\n",
              "      <th>Price</th>\n",
              "      <td>10</td>\n",
              "      <td>8</td>\n",
              "      <td>12</td>\n",
              "    </tr>\n",
              "  </tbody>\n",
              "</table>\n",
              "</div>"
            ],
            "text/plain": [
              "       Almond butter  Peanut Butter  Cashew Butter\n",
              "Price             10              8             12"
            ]
          },
          "metadata": {},
          "execution_count": 134
        }
      ]
    },
    {
      "cell_type": "code",
      "metadata": {
        "colab": {
          "base_uri": "https://localhost:8080/"
        },
        "id": "qN864fykBivP",
        "outputId": "8453228a-1e4e-43c3-a8eb-9721fb6e7eed"
      },
      "source": [
        "butter_prices.shape, weekly_sales.T.shape # Phải chuyển vị weekly_sales mới nhân được"
      ],
      "execution_count": 140,
      "outputs": [
        {
          "output_type": "execute_result",
          "data": {
            "text/plain": [
              "((1, 3), (3, 5))"
            ]
          },
          "metadata": {},
          "execution_count": 140
        }
      ]
    },
    {
      "cell_type": "code",
      "metadata": {
        "colab": {
          "base_uri": "https://localhost:8080/",
          "height": 204
        },
        "id": "DHwH1nOCBzS9",
        "outputId": "3cff9720-2afd-4cd1-91c5-b16485fd58d7"
      },
      "source": [
        "total_prices = weekly_sales.dot(butter_prices.T) # Nhân 2 ma trận để tính tổng giá trị bán được 1 ngày\n",
        "total_prices"
      ],
      "execution_count": 143,
      "outputs": [
        {
          "output_type": "execute_result",
          "data": {
            "text/html": [
              "<div>\n",
              "<style scoped>\n",
              "    .dataframe tbody tr th:only-of-type {\n",
              "        vertical-align: middle;\n",
              "    }\n",
              "\n",
              "    .dataframe tbody tr th {\n",
              "        vertical-align: top;\n",
              "    }\n",
              "\n",
              "    .dataframe thead th {\n",
              "        text-align: right;\n",
              "    }\n",
              "</style>\n",
              "<table border=\"1\" class=\"dataframe\">\n",
              "  <thead>\n",
              "    <tr style=\"text-align: right;\">\n",
              "      <th></th>\n",
              "      <th>Price</th>\n",
              "    </tr>\n",
              "  </thead>\n",
              "  <tbody>\n",
              "    <tr>\n",
              "      <th>Mon</th>\n",
              "      <td>240</td>\n",
              "    </tr>\n",
              "    <tr>\n",
              "      <th>Tues</th>\n",
              "      <td>138</td>\n",
              "    </tr>\n",
              "    <tr>\n",
              "      <th>wed</th>\n",
              "      <td>458</td>\n",
              "    </tr>\n",
              "    <tr>\n",
              "      <th>Thurs</th>\n",
              "      <td>232</td>\n",
              "    </tr>\n",
              "    <tr>\n",
              "      <th>Fri</th>\n",
              "      <td>142</td>\n",
              "    </tr>\n",
              "  </tbody>\n",
              "</table>\n",
              "</div>"
            ],
            "text/plain": [
              "       Price\n",
              "Mon      240\n",
              "Tues     138\n",
              "wed      458\n",
              "Thurs    232\n",
              "Fri      142"
            ]
          },
          "metadata": {},
          "execution_count": 143
        }
      ]
    },
    {
      "cell_type": "code",
      "metadata": {
        "colab": {
          "base_uri": "https://localhost:8080/",
          "height": 204
        },
        "id": "GOvvNcirCL1E",
        "outputId": "9eb7356f-b8da-42f2-9139-f41a82f84e33"
      },
      "source": [
        "weekly_sales[\"Total\"] = total_prices # Thêm cột mới cho weekly_sales\n",
        "weekly_sales"
      ],
      "execution_count": 144,
      "outputs": [
        {
          "output_type": "execute_result",
          "data": {
            "text/html": [
              "<div>\n",
              "<style scoped>\n",
              "    .dataframe tbody tr th:only-of-type {\n",
              "        vertical-align: middle;\n",
              "    }\n",
              "\n",
              "    .dataframe tbody tr th {\n",
              "        vertical-align: top;\n",
              "    }\n",
              "\n",
              "    .dataframe thead th {\n",
              "        text-align: right;\n",
              "    }\n",
              "</style>\n",
              "<table border=\"1\" class=\"dataframe\">\n",
              "  <thead>\n",
              "    <tr style=\"text-align: right;\">\n",
              "      <th></th>\n",
              "      <th>Almond butter</th>\n",
              "      <th>Peanut Butter</th>\n",
              "      <th>Cashew Butter</th>\n",
              "      <th>Total</th>\n",
              "    </tr>\n",
              "  </thead>\n",
              "  <tbody>\n",
              "    <tr>\n",
              "      <th>Mon</th>\n",
              "      <td>12</td>\n",
              "      <td>15</td>\n",
              "      <td>0</td>\n",
              "      <td>240</td>\n",
              "    </tr>\n",
              "    <tr>\n",
              "      <th>Tues</th>\n",
              "      <td>3</td>\n",
              "      <td>3</td>\n",
              "      <td>7</td>\n",
              "      <td>138</td>\n",
              "    </tr>\n",
              "    <tr>\n",
              "      <th>wed</th>\n",
              "      <td>9</td>\n",
              "      <td>19</td>\n",
              "      <td>18</td>\n",
              "      <td>458</td>\n",
              "    </tr>\n",
              "    <tr>\n",
              "      <th>Thurs</th>\n",
              "      <td>4</td>\n",
              "      <td>6</td>\n",
              "      <td>12</td>\n",
              "      <td>232</td>\n",
              "    </tr>\n",
              "    <tr>\n",
              "      <th>Fri</th>\n",
              "      <td>1</td>\n",
              "      <td>6</td>\n",
              "      <td>7</td>\n",
              "      <td>142</td>\n",
              "    </tr>\n",
              "  </tbody>\n",
              "</table>\n",
              "</div>"
            ],
            "text/plain": [
              "       Almond butter  Peanut Butter  Cashew Butter  Total\n",
              "Mon               12             15              0    240\n",
              "Tues               3              3              7    138\n",
              "wed                9             19             18    458\n",
              "Thurs              4              6             12    232\n",
              "Fri                1              6              7    142"
            ]
          },
          "metadata": {},
          "execution_count": 144
        }
      ]
    }
  ]
}
