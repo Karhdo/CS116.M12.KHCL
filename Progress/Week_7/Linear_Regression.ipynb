{
  "nbformat": 4,
  "nbformat_minor": 0,
  "metadata": {
    "colab": {
      "name": "Linear_Regression.ipynb",
      "provenance": [],
      "collapsed_sections": []
    },
    "kernelspec": {
      "name": "python3",
      "display_name": "Python 3"
    },
    "language_info": {
      "name": "python"
    }
  },
  "cells": [
    {
      "cell_type": "markdown",
      "metadata": {
        "id": "Fss48S45kFAs"
      },
      "source": [
        "<h1 align='center'>Mô Hình Linear Regression Đơn Và Đa Biến</h1>\n",
        "<h1 align='center'>Đỗ Trọng Khánh - 19521676</h1>"
      ]
    },
    {
      "cell_type": "markdown",
      "metadata": {
        "id": "hMbWOrJMkg6C"
      },
      "source": [
        "# Connect Driver"
      ]
    },
    {
      "cell_type": "code",
      "metadata": {
        "colab": {
          "base_uri": "https://localhost:8080/"
        },
        "id": "41COjIrPkae6",
        "outputId": "c5c24b0b-d4dd-416b-af14-c4a92538bcbc"
      },
      "source": [
        "from google.colab import drive\n",
        "drive.mount('/gdrive')"
      ],
      "execution_count": null,
      "outputs": [
        {
          "output_type": "stream",
          "name": "stdout",
          "text": [
            "Drive already mounted at /gdrive; to attempt to forcibly remount, call drive.mount(\"/gdrive\", force_remount=True).\n"
          ]
        }
      ]
    },
    {
      "cell_type": "markdown",
      "metadata": {
        "id": "nsFZ9Ib3kvnN"
      },
      "source": [
        "# Import Libary"
      ]
    },
    {
      "cell_type": "code",
      "metadata": {
        "id": "FLfDiaHckwpn"
      },
      "source": [
        "import pandas as pd\n",
        "import numpy as np\n",
        "from pandas import DataFrame\n",
        "from sklearn.preprocessing import StandardScaler\n",
        "from sklearn.metrics import accuracy_score, classification_report\n",
        "import matplotlib.pyplot as plt\n",
        "from sklearn.model_selection import train_test_split\n",
        "from sklearn.model_selection import KFold\n",
        "from sklearn.preprocessing import OneHotEncoder, LabelEncoder\n",
        "from sklearn.compose import ColumnTransformer\n",
        "from sklearn.metrics import r2_score\n",
        "import seaborn as sns\n",
        "import warnings\n",
        "warnings.filterwarnings('ignore')"
      ],
      "execution_count": null,
      "outputs": []
    },
    {
      "cell_type": "markdown",
      "metadata": {
        "id": "O2xHn_phOBZC"
      },
      "source": [
        "# Simple linear regression"
      ]
    },
    {
      "cell_type": "markdown",
      "metadata": {
        "id": "GkUmpe2XPPT1"
      },
      "source": [
        "## Prepare Data"
      ]
    },
    {
      "cell_type": "code",
      "metadata": {
        "id": "DUrQ1s3fPX40"
      },
      "source": [
        "data_link = '/gdrive/MyDrive/Colab Notebooks/Lập trình Python cho Máy học/Week 7/Data/Salary_Data.csv'\n",
        "data = pd.read_csv(data_link)"
      ],
      "execution_count": null,
      "outputs": []
    },
    {
      "cell_type": "code",
      "metadata": {
        "id": "SHOtVB-oQAOv"
      },
      "source": [
        "df = pd.DataFrame(data)\n",
        "X_data = df.iloc[:, 0:-1];\n",
        "Y_data = df.iloc[:, -1:];\n",
        "\n",
        "X_data_np = X_data.to_numpy()\n",
        "Y_data_np = Y_data.to_numpy()"
      ],
      "execution_count": null,
      "outputs": []
    },
    {
      "cell_type": "markdown",
      "metadata": {
        "id": "GDY74LTqu63B"
      },
      "source": [
        "## Visualize Data"
      ]
    },
    {
      "cell_type": "code",
      "metadata": {
        "id": "W-yYIPxjvT8I"
      },
      "source": [
        "def visualize_data(X_data, Y_data, model):\n",
        "    sns.set()\n",
        "    a = model.coef_[0] # Hệ số dự đoán cho từng dữ liệu\n",
        "    b = model.intercept_[0] # Lấy hằng số của hàm quyết định\n",
        "    x_max = np.max(X_data)\n",
        "    x_min = np.min(X_data)\n",
        "\n",
        "    x = [i for i in np.arange(x_min, x_max, 0.01)]\n",
        "    y = a*x + b\n",
        "    plt.plot(x, y, color=\"red\")\n",
        "    plt.scatter(X_data, Y_data)\n",
        "    plt.xlabel('YearsExperience')\n",
        "    plt.ylabel('Salary')\n",
        "    plt.show()"
      ],
      "execution_count": null,
      "outputs": []
    },
    {
      "cell_type": "markdown",
      "metadata": {
        "id": "gStMo8GGRHTE"
      },
      "source": [
        "## Tranning and evaluate model"
      ]
    },
    {
      "cell_type": "markdown",
      "metadata": {
        "id": "WDWFBuFDRJLL"
      },
      "source": [
        "### Simple Linear Regression"
      ]
    },
    {
      "cell_type": "code",
      "metadata": {
        "id": "B7FSLymbRR8Y"
      },
      "source": [
        "from sklearn.linear_model import LinearRegression\n",
        "LinearRegression_model = LinearRegression()"
      ],
      "execution_count": null,
      "outputs": []
    },
    {
      "cell_type": "code",
      "metadata": {
        "colab": {
          "base_uri": "https://localhost:8080/",
          "height": 302
        },
        "id": "DOr6TMw0Rlcx",
        "outputId": "5e0ab0a7-8aba-47c2-b115-8b829cbdf801"
      },
      "source": [
        "kfold = KFold(5, True, 1);\n",
        "score_list = [];\n",
        "\n",
        "# Sử dụng kfold để chia dữ liệu và đánh giá mô hình\n",
        "for train, test in kfold.split(X_data_np, Y_data_np):\n",
        "    X_train, X_test = X_data_np[train], X_data_np[test];\n",
        "    Y_train, Y_test = Y_data_np[train], Y_data_np[test];\n",
        "    \n",
        "    LinearRegression_model.fit(X_train, Y_train);\n",
        "    y_pred = LinearRegression_model.predict(X_test)\n",
        "    score_list.append(r2_score(y_pred, Y_test, sample_weight=None))\n",
        "\n",
        "print('\\tR2_Score:', np.mean(score_list))\n",
        "visualize_data(X_train, Y_train, LinearRegression_model)"
      ],
      "execution_count": null,
      "outputs": [
        {
          "output_type": "stream",
          "name": "stdout",
          "text": [
            "\tR2_Score: 0.8742256057843416\n"
          ]
        },
        {
          "output_type": "display_data",
          "data": {
            "image/png": "[encoded data removed]",
            "text/plain": [
              "<Figure size 432x288 with 1 Axes>"
            ]
          },
          "metadata": {}
        }
      ]
    },
    {
      "cell_type": "markdown",
      "metadata": {
        "id": "L3S3VfMCNcpP"
      },
      "source": [
        "# Multiple linear regression"
      ]
    },
    {
      "cell_type": "markdown",
      "metadata": {
        "id": "gdOQVx8yk0hf"
      },
      "source": [
        "## Prepare Data"
      ]
    },
    {
      "cell_type": "code",
      "metadata": {
        "id": "iXgV38SSky0A"
      },
      "source": [
        "data_link = '/gdrive/MyDrive/Colab Notebooks/Lập trình Python cho Máy học/Week 7/Data/50_Startups.csv'\n",
        "data = pd.read_csv(data_link)"
      ],
      "execution_count": null,
      "outputs": []
    },
    {
      "cell_type": "code",
      "metadata": {
        "colab": {
          "base_uri": "https://localhost:8080/",
          "height": 204
        },
        "id": "RDah3t21lA1X",
        "outputId": "2ad805bb-9a2f-4f5f-d155-ae87f139b1aa"
      },
      "source": [
        "data.head()"
      ],
      "execution_count": null,
      "outputs": [
        {
          "output_type": "execute_result",
          "data": {
            "text/html": [
              "<div>\n",
              "<style scoped>\n",
              "    .dataframe tbody tr th:only-of-type {\n",
              "        vertical-align: middle;\n",
              "    }\n",
              "\n",
              "    .dataframe tbody tr th {\n",
              "        vertical-align: top;\n",
              "    }\n",
              "\n",
              "    .dataframe thead th {\n",
              "        text-align: right;\n",
              "    }\n",
              "</style>\n",
              "<table border=\"1\" class=\"dataframe\">\n",
              "  <thead>\n",
              "    <tr style=\"text-align: right;\">\n",
              "      <th></th>\n",
              "      <th>R&amp;D Spend</th>\n",
              "      <th>Administration</th>\n",
              "      <th>Marketing Spend</th>\n",
              "      <th>State</th>\n",
              "      <th>Profit</th>\n",
              "    </tr>\n",
              "  </thead>\n",
              "  <tbody>\n",
              "    <tr>\n",
              "      <th>0</th>\n",
              "      <td>165349.20</td>\n",
              "      <td>136897.80</td>\n",
              "      <td>471784.10</td>\n",
              "      <td>New York</td>\n",
              "      <td>192261.83</td>\n",
              "    </tr>\n",
              "    <tr>\n",
              "      <th>1</th>\n",
              "      <td>162597.70</td>\n",
              "      <td>151377.59</td>\n",
              "      <td>443898.53</td>\n",
              "      <td>California</td>\n",
              "      <td>191792.06</td>\n",
              "    </tr>\n",
              "    <tr>\n",
              "      <th>2</th>\n",
              "      <td>153441.51</td>\n",
              "      <td>101145.55</td>\n",
              "      <td>407934.54</td>\n",
              "      <td>Florida</td>\n",
              "      <td>191050.39</td>\n",
              "    </tr>\n",
              "    <tr>\n",
              "      <th>3</th>\n",
              "      <td>144372.41</td>\n",
              "      <td>118671.85</td>\n",
              "      <td>383199.62</td>\n",
              "      <td>New York</td>\n",
              "      <td>182901.99</td>\n",
              "    </tr>\n",
              "    <tr>\n",
              "      <th>4</th>\n",
              "      <td>142107.34</td>\n",
              "      <td>91391.77</td>\n",
              "      <td>366168.42</td>\n",
              "      <td>Florida</td>\n",
              "      <td>166187.94</td>\n",
              "    </tr>\n",
              "  </tbody>\n",
              "</table>\n",
              "</div>"
            ],
            "text/plain": [
              "   R&D Spend  Administration  Marketing Spend       State     Profit\n",
              "0  165349.20       136897.80        471784.10    New York  192261.83\n",
              "1  162597.70       151377.59        443898.53  California  191792.06\n",
              "2  153441.51       101145.55        407934.54     Florida  191050.39\n",
              "3  144372.41       118671.85        383199.62    New York  182901.99\n",
              "4  142107.34        91391.77        366168.42     Florida  166187.94"
            ]
          },
          "metadata": {},
          "execution_count": 114
        }
      ]
    },
    {
      "cell_type": "code",
      "metadata": {
        "id": "bJx_9LASlCXy"
      },
      "source": [
        "df = pd.DataFrame(data)\n",
        "X_data = df.iloc[:, 0:-2];\n",
        "Y_data = df.iloc[:, -1:];"
      ],
      "execution_count": null,
      "outputs": []
    },
    {
      "cell_type": "code",
      "metadata": {
        "id": "oq7ij-uMlabd"
      },
      "source": [
        "x_profit_state = df['State'].to_numpy().reshape(-1, 1)\n",
        "\n",
        "onehot_encoder = OneHotEncoder()\n",
        "x_profit_state = onehot_encoder.fit_transform(x_profit_state).toarray()\n",
        "\n",
        "X_data = np.hstack([X_data, x_profit_state])"
      ],
      "execution_count": null,
      "outputs": []
    },
    {
      "cell_type": "code",
      "metadata": {
        "id": "45-vgQCDoAI1"
      },
      "source": [
        "Y_data = Y_data.to_numpy()"
      ],
      "execution_count": null,
      "outputs": []
    },
    {
      "cell_type": "markdown",
      "metadata": {
        "id": "Iw7dspx_om6l"
      },
      "source": [
        "## Tranning and evaluate model"
      ]
    },
    {
      "cell_type": "markdown",
      "metadata": {
        "id": "LAMOiAg3opoJ"
      },
      "source": [
        "### Multiple Linear Regression"
      ]
    },
    {
      "cell_type": "code",
      "metadata": {
        "id": "Agq_h4_poPaX"
      },
      "source": [
        "from sklearn.linear_model import LinearRegression\n",
        "LinearRegression_model = LinearRegression()"
      ],
      "execution_count": null,
      "outputs": []
    },
    {
      "cell_type": "code",
      "metadata": {
        "colab": {
          "base_uri": "https://localhost:8080/",
          "height": 304
        },
        "id": "kBR-r40foRBj",
        "outputId": "65243be0-299b-44eb-f595-4c22ce47b063"
      },
      "source": [
        "kfold = KFold(5, True, 1);\n",
        "\n",
        "score_list = [];\n",
        "for train, test in kfold.split(X_data, Y_data):\n",
        "    X_train, X_test = X_data[train], X_data[test];\n",
        "    Y_train, Y_test = Y_data[train], Y_data[test];\n",
        "    \n",
        "    LinearRegression_model.fit(X_train, Y_train);\n",
        "    y_pred = LinearRegression_model.predict(X_test)\n",
        "    score_list.append(r2_score(y_pred, Y_test, sample_weight=None))\n",
        "\n",
        "print('\\tR2_Score:', np.mean(score_list))\n",
        "\n",
        "# Visualising data\n",
        "sns.set()\n",
        "x = np.arange(0, 175000).reshape((-1, 1))\n",
        "plt.xlabel('R&D Spend')\n",
        "plt.ylabel('Profit')\n",
        "plt.scatter(X_train[:, 0], Y_train)\n",
        "a = LinearRegression_model.coef_[0][0]\n",
        "b = LinearRegression_model.intercept_\n",
        "y = a*x +b\n",
        "plt.plot(x, y, color=\"red\")\n",
        "plt.show()"
      ],
      "execution_count": null,
      "outputs": [
        {
          "output_type": "stream",
          "name": "stdout",
          "text": [
            "\tR2_Score: 0.8898522301315502\n"
          ]
        },
        {
          "output_type": "display_data",
          "data": {
            "image/png": "[encoded data removed]",
            "text/plain": [
              "<Figure size 432x288 with 1 Axes>"
            ]
          },
          "metadata": {}
        }
      ]
    },
    {
      "cell_type": "markdown",
      "metadata": {
        "id": "wXOVLuGJQiqc"
      },
      "source": [
        "# Linear Regression Position Salaries"
      ]
    },
    {
      "cell_type": "markdown",
      "metadata": {
        "id": "VFJL3G-grork"
      },
      "source": [
        "## Prepare Data"
      ]
    },
    {
      "cell_type": "code",
      "metadata": {
        "id": "HAZBZnNwrK49"
      },
      "source": [
        "data_link = '/gdrive/MyDrive/Colab Notebooks/Lập trình Python cho Máy học/Week 7/Data/Position_Salaries.csv'\n",
        "data = pd.read_csv(data_link)"
      ],
      "execution_count": null,
      "outputs": []
    },
    {
      "cell_type": "code",
      "metadata": {
        "id": "IrVIGPpQsT0w",
        "colab": {
          "base_uri": "https://localhost:8080/",
          "height": 204
        },
        "outputId": "2d905078-370a-4daa-b58e-0a7d8ca1ade6"
      },
      "source": [
        "data.head()"
      ],
      "execution_count": null,
      "outputs": [
        {
          "output_type": "execute_result",
          "data": {
            "text/html": [
              "<div>\n",
              "<style scoped>\n",
              "    .dataframe tbody tr th:only-of-type {\n",
              "        vertical-align: middle;\n",
              "    }\n",
              "\n",
              "    .dataframe tbody tr th {\n",
              "        vertical-align: top;\n",
              "    }\n",
              "\n",
              "    .dataframe thead th {\n",
              "        text-align: right;\n",
              "    }\n",
              "</style>\n",
              "<table border=\"1\" class=\"dataframe\">\n",
              "  <thead>\n",
              "    <tr style=\"text-align: right;\">\n",
              "      <th></th>\n",
              "      <th>Position</th>\n",
              "      <th>Level</th>\n",
              "      <th>Salary</th>\n",
              "    </tr>\n",
              "  </thead>\n",
              "  <tbody>\n",
              "    <tr>\n",
              "      <th>0</th>\n",
              "      <td>Business Analyst</td>\n",
              "      <td>1</td>\n",
              "      <td>45000</td>\n",
              "    </tr>\n",
              "    <tr>\n",
              "      <th>1</th>\n",
              "      <td>Junior Consultant</td>\n",
              "      <td>2</td>\n",
              "      <td>50000</td>\n",
              "    </tr>\n",
              "    <tr>\n",
              "      <th>2</th>\n",
              "      <td>Senior Consultant</td>\n",
              "      <td>3</td>\n",
              "      <td>60000</td>\n",
              "    </tr>\n",
              "    <tr>\n",
              "      <th>3</th>\n",
              "      <td>Manager</td>\n",
              "      <td>4</td>\n",
              "      <td>80000</td>\n",
              "    </tr>\n",
              "    <tr>\n",
              "      <th>4</th>\n",
              "      <td>Country Manager</td>\n",
              "      <td>5</td>\n",
              "      <td>110000</td>\n",
              "    </tr>\n",
              "  </tbody>\n",
              "</table>\n",
              "</div>"
            ],
            "text/plain": [
              "            Position  Level  Salary\n",
              "0   Business Analyst      1   45000\n",
              "1  Junior Consultant      2   50000\n",
              "2  Senior Consultant      3   60000\n",
              "3            Manager      4   80000\n",
              "4    Country Manager      5  110000"
            ]
          },
          "metadata": {},
          "execution_count": 121
        }
      ]
    },
    {
      "cell_type": "code",
      "metadata": {
        "id": "oeOyVcmzs2dE"
      },
      "source": [
        "X_data = data.iloc[:, 1:2].values\n",
        "y_data = data.iloc[:, -1:].values"
      ],
      "execution_count": null,
      "outputs": []
    },
    {
      "cell_type": "markdown",
      "metadata": {
        "id": "ytHMdUS3vYqR"
      },
      "source": [
        "## Chuẩn hoá dữ liệu với StandardScaler"
      ]
    },
    {
      "cell_type": "code",
      "metadata": {
        "id": "t6Q4cAO9vef4"
      },
      "source": [
        "standard_ccaler = StandardScaler()\n",
        "sc_y_data = standard_ccaler.fit_transform(y_data)"
      ],
      "execution_count": null,
      "outputs": []
    },
    {
      "cell_type": "markdown",
      "metadata": {
        "id": "0TsK4CK_tPOf"
      },
      "source": [
        "## Tranning and evaluate model"
      ]
    },
    {
      "cell_type": "markdown",
      "metadata": {
        "id": "ermwTwzStSDu"
      },
      "source": [
        "### Model Support Vector Regression"
      ]
    },
    {
      "cell_type": "code",
      "metadata": {
        "id": "bemrt09ctQ7S"
      },
      "source": [
        "from sklearn.svm import SVR\n",
        "SCR_model = SVR(kernel = 'poly')"
      ],
      "execution_count": null,
      "outputs": []
    },
    {
      "cell_type": "code",
      "metadata": {
        "colab": {
          "base_uri": "https://localhost:8080/",
          "height": 318
        },
        "id": "OjaMw_tbtqEK",
        "outputId": "a16fa13d-2ba4-4d4b-d1ea-c93d9c269c5e"
      },
      "source": [
        "kfold = KFold(2, True, 1);\n",
        "score_list = [];\n",
        "\n",
        "# Sử dụng kfold để chia dữ liệu và đánh giá mô hình\n",
        "for train, test in kfold.split(X_data, sc_y_data):\n",
        "    X_train, X_test = X_data[train], X_data[test];\n",
        "    Y_train, Y_test = sc_y_data[train], sc_y_data[test];\n",
        "    \n",
        "    SCR_model.fit(X_train, Y_train);\n",
        "    y_pred = SCR_model.predict(X_test)\n",
        "    score_list.append(r2_score(Y_test, y_pred))\n",
        "\n",
        "print('\\tR2_Score:', np.mean(score_list))\n",
        "\n",
        "# Visualising data\n",
        "plt.scatter(X_data, sc_y_data, color='red')\n",
        "plt.plot(X_data,SCR_model.predict(X_data), color='blue')\n",
        "plt.title('Model Support Vector Regression')\n",
        "plt.xlabel('Position')\n",
        "plt.ylabel('Salary')\n",
        "plt.show()"
      ],
      "execution_count": null,
      "outputs": [
        {
          "output_type": "stream",
          "name": "stdout",
          "text": [
            "\tR2_Score: 0.5625498097233901\n"
          ]
        },
        {
          "output_type": "display_data",
          "data": {
            "image/png": "[encoded data removed]",
            "text/plain": [
              "<Figure size 432x288 with 1 Axes>"
            ]
          },
          "metadata": {}
        }
      ]
    },
    {
      "cell_type": "markdown",
      "metadata": {
        "id": "UlGt77ck5SEE"
      },
      "source": [
        "### Model Random Forest Regression"
      ]
    },
    {
      "cell_type": "code",
      "metadata": {
        "id": "WINJeRNF5RLT"
      },
      "source": [
        "from sklearn.ensemble import RandomForestRegressor\n",
        "RFR_model = RandomForestRegressor(n_estimators = 10, random_state = 0)"
      ],
      "execution_count": null,
      "outputs": []
    },
    {
      "cell_type": "code",
      "metadata": {
        "colab": {
          "base_uri": "https://localhost:8080/",
          "height": 318
        },
        "id": "IN0o1qSQ5x1G",
        "outputId": "d56b6f4b-c50c-4f54-ae23-517a333ac33a"
      },
      "source": [
        "kfold = KFold(2, True, 1);\n",
        "score_list = [];\n",
        "y_data = np.array(y_data).astype(int)\n",
        "# Sử dụng kfold để chia dữ liệu và đánh giá mô hình\n",
        "for train, test in kfold.split(X_data, y_data):\n",
        "    X_train, X_test = X_data[train], X_data[test];\n",
        "    Y_train, Y_test = y_data[train], y_data[test];\n",
        "    \n",
        "    RFR_model.fit(X_train, Y_train);\n",
        "    y_pred = RFR_model.predict(X_test)\n",
        "    score_list.append(r2_score(Y_test, y_pred))\n",
        "\n",
        "print('\\tR2_Score:', np.mean(score_list))\n",
        "\n",
        "# Visualising data\n",
        "x_grid = np.arange(min(X_data), max(X_data), 0.01)\n",
        "x_grid = x_grid.reshape((len(x_grid), 1))\n",
        "plt.scatter(X_data, y_data, color = 'red')\n",
        "plt.plot(x_grid, RFR_model.predict(x_grid), color = 'blue')\n",
        "plt.title('Model Random Forest Regression')\n",
        "plt.xlabel('Position')\n",
        "plt.ylabel('Salary')\n",
        "plt.show()"
      ],
      "execution_count": null,
      "outputs": [
        {
          "output_type": "stream",
          "name": "stdout",
          "text": [
            "\tR2_Score: 0.5083381253928466\n"
          ]
        },
        {
          "output_type": "display_data",
          "data": {
            "image/png": "[encoded data removed]",
            "text/plain": [
              "<Figure size 432x288 with 1 Axes>"
            ]
          },
          "metadata": {}
        }
      ]
    }
  ]
}