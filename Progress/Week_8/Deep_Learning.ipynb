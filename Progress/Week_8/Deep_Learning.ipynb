{
  "nbformat": 4,
  "nbformat_minor": 0,
  "metadata": {
    "colab": {
      "name": "Deep_Learning.ipynb",
      "provenance": [],
      "collapsed_sections": []
    },
    "kernelspec": {
      "name": "python3",
      "display_name": "Python 3"
    },
    "language_info": {
      "name": "python"
    }
  },
  "cells": [
    {
      "cell_type": "markdown",
      "metadata": {
        "id": "YDHG9l2RsKrD"
      },
      "source": [
        "<h1 align='center'>Xây Dựng Mô Hình Mạng Neural Network</h1>\n",
        "<h1 align='center'>Đỗ Trọng Khánh - 19521676</h1>"
      ]
    },
    {
      "cell_type": "markdown",
      "metadata": {
        "id": "QylLofLkXmvt"
      },
      "source": [
        "# Connect Driver"
      ]
    },
    {
      "cell_type": "code",
      "metadata": {
        "colab": {
          "base_uri": "https://localhost:8080/"
        },
        "id": "eO4qv405Xks2",
        "outputId": "0697bf7a-4686-49df-e121-7bb5a36a0c45"
      },
      "source": [
        "from google.colab import drive\n",
        "drive.mount('/gdrive')"
      ],
      "execution_count": 1,
      "outputs": [
        {
          "output_type": "stream",
          "name": "stdout",
          "text": [
            "Mounted at /gdrive\n"
          ]
        }
      ]
    },
    {
      "cell_type": "markdown",
      "metadata": {
        "id": "e_kBmUgjYOFq"
      },
      "source": [
        "# Import Libary"
      ]
    },
    {
      "cell_type": "code",
      "metadata": {
        "id": "wWrokadpYVlZ"
      },
      "source": [
        "import numpy as np\n",
        "import pandas as pd\n",
        "from keras.layers import Dense\n",
        "from keras.models import Sequential\n",
        "from sklearn.model_selection import KFold\n",
        "from sklearn.preprocessing import StandardScaler\n",
        "from sklearn.model_selection import train_test_split\n",
        "from sklearn.preprocessing import OneHotEncoder, LabelEncoder"
      ],
      "execution_count": 86,
      "outputs": []
    },
    {
      "cell_type": "markdown",
      "metadata": {
        "id": "wtQNGLn1YKqd"
      },
      "source": [
        "# Prepare Data"
      ]
    },
    {
      "cell_type": "code",
      "metadata": {
        "id": "PVKCfp6eYJ9U"
      },
      "source": [
        "data_link = '/gdrive/MyDrive/Colab Notebooks/Lập trình Python cho Máy học/Week 8/Churn_Modelling.csv'\n",
        "data = pd.read_csv(data_link)"
      ],
      "execution_count": 75,
      "outputs": []
    },
    {
      "cell_type": "code",
      "metadata": {
        "colab": {
          "base_uri": "https://localhost:8080/",
          "height": 204
        },
        "id": "_C7aOxKVZBDU",
        "outputId": "e5f23367-13c6-4f2e-f020-b9f306d8603d"
      },
      "source": [
        "data.head()"
      ],
      "execution_count": 76,
      "outputs": [
        {
          "output_type": "execute_result",
          "data": {
            "text/html": [
              "<div>\n",
              "<style scoped>\n",
              "    .dataframe tbody tr th:only-of-type {\n",
              "        vertical-align: middle;\n",
              "    }\n",
              "\n",
              "    .dataframe tbody tr th {\n",
              "        vertical-align: top;\n",
              "    }\n",
              "\n",
              "    .dataframe thead th {\n",
              "        text-align: right;\n",
              "    }\n",
              "</style>\n",
              "<table border=\"1\" class=\"dataframe\">\n",
              "  <thead>\n",
              "    <tr style=\"text-align: right;\">\n",
              "      <th></th>\n",
              "      <th>RowNumber</th>\n",
              "      <th>CustomerId</th>\n",
              "      <th>Surname</th>\n",
              "      <th>CreditScore</th>\n",
              "      <th>Geography</th>\n",
              "      <th>Gender</th>\n",
              "      <th>Age</th>\n",
              "      <th>Tenure</th>\n",
              "      <th>Balance</th>\n",
              "      <th>NumOfProducts</th>\n",
              "      <th>HasCrCard</th>\n",
              "      <th>IsActiveMember</th>\n",
              "      <th>EstimatedSalary</th>\n",
              "      <th>Exited</th>\n",
              "    </tr>\n",
              "  </thead>\n",
              "  <tbody>\n",
              "    <tr>\n",
              "      <th>0</th>\n",
              "      <td>1</td>\n",
              "      <td>15634602</td>\n",
              "      <td>Hargrave</td>\n",
              "      <td>619</td>\n",
              "      <td>France</td>\n",
              "      <td>Female</td>\n",
              "      <td>42</td>\n",
              "      <td>2</td>\n",
              "      <td>0.00</td>\n",
              "      <td>1</td>\n",
              "      <td>1</td>\n",
              "      <td>1</td>\n",
              "      <td>101348.88</td>\n",
              "      <td>1</td>\n",
              "    </tr>\n",
              "    <tr>\n",
              "      <th>1</th>\n",
              "      <td>2</td>\n",
              "      <td>15647311</td>\n",
              "      <td>Hill</td>\n",
              "      <td>608</td>\n",
              "      <td>Spain</td>\n",
              "      <td>Female</td>\n",
              "      <td>41</td>\n",
              "      <td>1</td>\n",
              "      <td>83807.86</td>\n",
              "      <td>1</td>\n",
              "      <td>0</td>\n",
              "      <td>1</td>\n",
              "      <td>112542.58</td>\n",
              "      <td>0</td>\n",
              "    </tr>\n",
              "    <tr>\n",
              "      <th>2</th>\n",
              "      <td>3</td>\n",
              "      <td>15619304</td>\n",
              "      <td>Onio</td>\n",
              "      <td>502</td>\n",
              "      <td>France</td>\n",
              "      <td>Female</td>\n",
              "      <td>42</td>\n",
              "      <td>8</td>\n",
              "      <td>159660.80</td>\n",
              "      <td>3</td>\n",
              "      <td>1</td>\n",
              "      <td>0</td>\n",
              "      <td>113931.57</td>\n",
              "      <td>1</td>\n",
              "    </tr>\n",
              "    <tr>\n",
              "      <th>3</th>\n",
              "      <td>4</td>\n",
              "      <td>15701354</td>\n",
              "      <td>Boni</td>\n",
              "      <td>699</td>\n",
              "      <td>France</td>\n",
              "      <td>Female</td>\n",
              "      <td>39</td>\n",
              "      <td>1</td>\n",
              "      <td>0.00</td>\n",
              "      <td>2</td>\n",
              "      <td>0</td>\n",
              "      <td>0</td>\n",
              "      <td>93826.63</td>\n",
              "      <td>0</td>\n",
              "    </tr>\n",
              "    <tr>\n",
              "      <th>4</th>\n",
              "      <td>5</td>\n",
              "      <td>15737888</td>\n",
              "      <td>Mitchell</td>\n",
              "      <td>850</td>\n",
              "      <td>Spain</td>\n",
              "      <td>Female</td>\n",
              "      <td>43</td>\n",
              "      <td>2</td>\n",
              "      <td>125510.82</td>\n",
              "      <td>1</td>\n",
              "      <td>1</td>\n",
              "      <td>1</td>\n",
              "      <td>79084.10</td>\n",
              "      <td>0</td>\n",
              "    </tr>\n",
              "  </tbody>\n",
              "</table>\n",
              "</div>"
            ],
            "text/plain": [
              "   RowNumber  CustomerId   Surname  ...  IsActiveMember EstimatedSalary Exited\n",
              "0          1    15634602  Hargrave  ...               1       101348.88      1\n",
              "1          2    15647311      Hill  ...               1       112542.58      0\n",
              "2          3    15619304      Onio  ...               0       113931.57      1\n",
              "3          4    15701354      Boni  ...               0        93826.63      0\n",
              "4          5    15737888  Mitchell  ...               1        79084.10      0\n",
              "\n",
              "[5 rows x 14 columns]"
            ]
          },
          "metadata": {},
          "execution_count": 76
        }
      ]
    },
    {
      "cell_type": "code",
      "metadata": {
        "id": "zGMNs4j1ZWhE"
      },
      "source": [
        "df = pd.DataFrame(data)\n",
        "X_data = df.iloc[:, 3:-1];\n",
        "y_data = df.iloc[:, -1:];"
      ],
      "execution_count": 77,
      "outputs": []
    },
    {
      "cell_type": "code",
      "metadata": {
        "id": "Ts4erUTiamTx"
      },
      "source": [
        "X_data = X_data.drop(columns = ['Geography', 'Gender'])\n",
        "\n",
        "onehot_encoder = OneHotEncoder()\n",
        "\n",
        "x_geography = df['Geography'].to_numpy().reshape(-1, 1)\n",
        "x_geography = onehot_encoder.fit_transform(x_geography).toarray()\n",
        "\n",
        "x_gender = df['Gender'].to_numpy().reshape(-1, 1)\n",
        "x_gender = onehot_encoder.fit_transform(x_gender).toarray()\n",
        "\n",
        "X_data = np.hstack([X_data, x_geography])\n",
        "X_data = np.hstack([X_data, x_gender])\n",
        "\n",
        "y_data = y_data.to_numpy()"
      ],
      "execution_count": 78,
      "outputs": []
    },
    {
      "cell_type": "markdown",
      "metadata": {
        "id": "OHpBij-7fjY9"
      },
      "source": [
        "# Train Test Split"
      ]
    },
    {
      "cell_type": "code",
      "metadata": {
        "id": "JlrffAaKeoSo"
      },
      "source": [
        "X_train, X_test, y_train, y_test = train_test_split(X_data, y_data, test_size=0.33, random_state=42)"
      ],
      "execution_count": 79,
      "outputs": []
    },
    {
      "cell_type": "markdown",
      "metadata": {
        "id": "zzIDcDiCft91"
      },
      "source": [
        "# Chuẩn hoá dữ liệu với Standard Scaler"
      ]
    },
    {
      "cell_type": "code",
      "metadata": {
        "id": "k_tk-OKIfdQq"
      },
      "source": [
        "standard_scaler = StandardScaler()\n",
        "\n",
        "X_train = standard_scaler.fit_transform(X_train)\n",
        "X_test = standard_scaler.fit_transform(X_test)"
      ],
      "execution_count": 80,
      "outputs": []
    },
    {
      "cell_type": "markdown",
      "metadata": {
        "id": "TTBriPYmhUER"
      },
      "source": [
        "# Xây dựng mô hình Mạng Neural Network"
      ]
    },
    {
      "cell_type": "markdown",
      "metadata": {
        "id": "4JjIb5UVj2KB"
      },
      "source": [
        "## Define the keras model"
      ]
    },
    {
      "cell_type": "code",
      "metadata": {
        "id": "PoTI4T7HhTXh"
      },
      "source": [
        "model = Sequential()\n",
        "model.add(Dense(12, input_dim=13, activation='relu'))\n",
        "model.add(Dense(8, activation='relu'))\n",
        "model.add(Dense(1, activation='sigmoid'))"
      ],
      "execution_count": 81,
      "outputs": []
    },
    {
      "cell_type": "markdown",
      "metadata": {
        "id": "sr7esLRQlWUX"
      },
      "source": [
        "## Compile the keras model"
      ]
    },
    {
      "cell_type": "code",
      "metadata": {
        "id": "hUf8ArwGkBdK"
      },
      "source": [
        "model.compile(loss='binary_crossentropy', optimizer='adam', metrics=['accuracy'])"
      ],
      "execution_count": 82,
      "outputs": []
    },
    {
      "cell_type": "markdown",
      "metadata": {
        "id": "wWyVEJDYlZvB"
      },
      "source": [
        "## Fit the keras model on the dataset"
      ]
    },
    {
      "cell_type": "code",
      "metadata": {
        "colab": {
          "base_uri": "https://localhost:8080/"
        },
        "id": "flREDwv2kKG3",
        "outputId": "d7b0d728-1486-405e-f335-61f24cba6b5c"
      },
      "source": [
        "model.fit(X_train, y_train, epochs=50, batch_size=10)"
      ],
      "execution_count": 83,
      "outputs": [
        {
          "output_type": "stream",
          "name": "stdout",
          "text": [
            "Epoch 1/50\n",
            "670/670 [==============================] - 1s 1ms/step - loss: 0.5030 - accuracy: 0.7699\n",
            "Epoch 2/50\n",
            "670/670 [==============================] - 1s 1ms/step - loss: 0.4336 - accuracy: 0.8058\n",
            "Epoch 3/50\n",
            "670/670 [==============================] - 1s 1ms/step - loss: 0.4184 - accuracy: 0.8155\n",
            "Epoch 4/50\n",
            "670/670 [==============================] - 1s 1ms/step - loss: 0.4040 - accuracy: 0.8275\n",
            "Epoch 5/50\n",
            "670/670 [==============================] - 1s 1ms/step - loss: 0.3867 - accuracy: 0.8397\n",
            "Epoch 6/50\n",
            "670/670 [==============================] - 1s 1ms/step - loss: 0.3703 - accuracy: 0.8469\n",
            "Epoch 7/50\n",
            "670/670 [==============================] - 1s 1ms/step - loss: 0.3593 - accuracy: 0.8509\n",
            "Epoch 8/50\n",
            "670/670 [==============================] - 1s 1ms/step - loss: 0.3526 - accuracy: 0.8537\n",
            "Epoch 9/50\n",
            "670/670 [==============================] - 1s 1ms/step - loss: 0.3480 - accuracy: 0.8549\n",
            "Epoch 10/50\n",
            "670/670 [==============================] - 1s 1ms/step - loss: 0.3467 - accuracy: 0.8561\n",
            "Epoch 11/50\n",
            "670/670 [==============================] - 1s 1ms/step - loss: 0.3448 - accuracy: 0.8569\n",
            "Epoch 12/50\n",
            "670/670 [==============================] - 1s 1ms/step - loss: 0.3436 - accuracy: 0.8579\n",
            "Epoch 13/50\n",
            "670/670 [==============================] - 1s 1ms/step - loss: 0.3424 - accuracy: 0.8573\n",
            "Epoch 14/50\n",
            "670/670 [==============================] - 1s 1ms/step - loss: 0.3413 - accuracy: 0.8587\n",
            "Epoch 15/50\n",
            "670/670 [==============================] - 1s 1ms/step - loss: 0.3400 - accuracy: 0.8581\n",
            "Epoch 16/50\n",
            "670/670 [==============================] - 1s 1ms/step - loss: 0.3390 - accuracy: 0.8560\n",
            "Epoch 17/50\n",
            "670/670 [==============================] - 1s 1ms/step - loss: 0.3379 - accuracy: 0.8621\n",
            "Epoch 18/50\n",
            "670/670 [==============================] - 1s 1ms/step - loss: 0.3373 - accuracy: 0.8584\n",
            "Epoch 19/50\n",
            "670/670 [==============================] - 1s 1ms/step - loss: 0.3371 - accuracy: 0.8612\n",
            "Epoch 20/50\n",
            "670/670 [==============================] - 1s 1ms/step - loss: 0.3363 - accuracy: 0.8601\n",
            "Epoch 21/50\n",
            "670/670 [==============================] - 1s 1ms/step - loss: 0.3348 - accuracy: 0.8585\n",
            "Epoch 22/50\n",
            "670/670 [==============================] - 1s 1ms/step - loss: 0.3345 - accuracy: 0.8606\n",
            "Epoch 23/50\n",
            "670/670 [==============================] - 1s 1ms/step - loss: 0.3350 - accuracy: 0.8606\n",
            "Epoch 24/50\n",
            "670/670 [==============================] - 1s 1ms/step - loss: 0.3343 - accuracy: 0.8606\n",
            "Epoch 25/50\n",
            "670/670 [==============================] - 1s 1ms/step - loss: 0.3331 - accuracy: 0.8606\n",
            "Epoch 26/50\n",
            "670/670 [==============================] - 1s 1ms/step - loss: 0.3335 - accuracy: 0.8591\n",
            "Epoch 27/50\n",
            "670/670 [==============================] - 1s 1ms/step - loss: 0.3329 - accuracy: 0.8596\n",
            "Epoch 28/50\n",
            "670/670 [==============================] - 1s 1ms/step - loss: 0.3330 - accuracy: 0.8609\n",
            "Epoch 29/50\n",
            "670/670 [==============================] - 1s 1ms/step - loss: 0.3320 - accuracy: 0.8613\n",
            "Epoch 30/50\n",
            "670/670 [==============================] - 1s 1ms/step - loss: 0.3321 - accuracy: 0.8604\n",
            "Epoch 31/50\n",
            "670/670 [==============================] - 1s 1ms/step - loss: 0.3315 - accuracy: 0.8619\n",
            "Epoch 32/50\n",
            "670/670 [==============================] - 1s 1ms/step - loss: 0.3314 - accuracy: 0.8599\n",
            "Epoch 33/50\n",
            "670/670 [==============================] - 1s 1ms/step - loss: 0.3319 - accuracy: 0.8600\n",
            "Epoch 34/50\n",
            "670/670 [==============================] - 1s 1ms/step - loss: 0.3307 - accuracy: 0.8634\n",
            "Epoch 35/50\n",
            "670/670 [==============================] - 1s 1ms/step - loss: 0.3302 - accuracy: 0.8607\n",
            "Epoch 36/50\n",
            "670/670 [==============================] - 1s 1ms/step - loss: 0.3304 - accuracy: 0.8601\n",
            "Epoch 37/50\n",
            "670/670 [==============================] - 1s 1ms/step - loss: 0.3296 - accuracy: 0.8606\n",
            "Epoch 38/50\n",
            "670/670 [==============================] - 1s 1ms/step - loss: 0.3292 - accuracy: 0.8655\n",
            "Epoch 39/50\n",
            "670/670 [==============================] - 1s 1ms/step - loss: 0.3297 - accuracy: 0.8627\n",
            "Epoch 40/50\n",
            "670/670 [==============================] - 1s 1ms/step - loss: 0.3286 - accuracy: 0.8616\n",
            "Epoch 41/50\n",
            "670/670 [==============================] - 1s 1ms/step - loss: 0.3293 - accuracy: 0.8619\n",
            "Epoch 42/50\n",
            "670/670 [==============================] - 1s 1ms/step - loss: 0.3284 - accuracy: 0.8619\n",
            "Epoch 43/50\n",
            "670/670 [==============================] - 1s 1ms/step - loss: 0.3287 - accuracy: 0.8613\n",
            "Epoch 44/50\n",
            "670/670 [==============================] - 1s 1ms/step - loss: 0.3283 - accuracy: 0.8643\n",
            "Epoch 45/50\n",
            "670/670 [==============================] - 1s 1ms/step - loss: 0.3274 - accuracy: 0.8636\n",
            "Epoch 46/50\n",
            "670/670 [==============================] - 1s 1ms/step - loss: 0.3278 - accuracy: 0.8633\n",
            "Epoch 47/50\n",
            "670/670 [==============================] - 1s 1ms/step - loss: 0.3275 - accuracy: 0.8615\n",
            "Epoch 48/50\n",
            "670/670 [==============================] - 1s 1ms/step - loss: 0.3282 - accuracy: 0.8625\n",
            "Epoch 49/50\n",
            "670/670 [==============================] - 1s 1ms/step - loss: 0.3271 - accuracy: 0.8622\n",
            "Epoch 50/50\n",
            "670/670 [==============================] - 1s 1ms/step - loss: 0.3272 - accuracy: 0.8646\n"
          ]
        },
        {
          "output_type": "execute_result",
          "data": {
            "text/plain": [
              "<keras.callbacks.History at 0x7f46473a1350>"
            ]
          },
          "metadata": {},
          "execution_count": 83
        }
      ]
    },
    {
      "cell_type": "markdown",
      "metadata": {
        "id": "uqOCTkxPlfYj"
      },
      "source": [
        "## Evaluate the keras model"
      ]
    },
    {
      "cell_type": "code",
      "metadata": {
        "colab": {
          "base_uri": "https://localhost:8080/"
        },
        "id": "QsDsEkbvk13o",
        "outputId": "797964a7-feba-4d1f-b0d6-c483d08b5e61"
      },
      "source": [
        "_, accuracy = model.evaluate(X_test, y_test)\n",
        "print('Accuracy: %.2f' % (accuracy*100))"
      ],
      "execution_count": 85,
      "outputs": [
        {
          "output_type": "stream",
          "name": "stdout",
          "text": [
            "104/104 [==============================] - 0s 1ms/step - loss: 0.3380 - accuracy: 0.8697\n",
            "Accuracy: 86.97\n"
          ]
        }
      ]
    },
    {
      "cell_type": "markdown",
      "metadata": {
        "id": "TWYjnd9ymYFX"
      },
      "source": [
        "# Evaluate the keras model use KFold Cross Validation"
      ]
    },
    {
      "cell_type": "code",
      "metadata": {
        "id": "uGBrATtvq_s8"
      },
      "source": [
        "X_data = standard_scaler.fit_transform(X_data)"
      ],
      "execution_count": 93,
      "outputs": []
    },
    {
      "cell_type": "code",
      "metadata": {
        "colab": {
          "base_uri": "https://localhost:8080/"
        },
        "id": "rG5nDKcloig-",
        "outputId": "f96d0798-9d0e-490d-b44f-19e56d9b1ff2"
      },
      "source": [
        "kfold = KFold(5, True, 1);\n",
        "\n",
        "score_list = [];\n",
        "for train, test in kfold.split(X_data, y_data):\n",
        "    X_train, X_test = X_data[train], X_data[test];\n",
        "    y_train, y_test = y_data[train], y_data[test];\n",
        "    \n",
        "    model.fit(X_train, y_train, epochs=5, batch_size=10);\n",
        "    _, accuracy = model.evaluate(X_test, y_test)\n",
        "    score_list.append(accuracy)"
      ],
      "execution_count": 94,
      "outputs": [
        {
          "output_type": "stream",
          "name": "stdout",
          "text": [
            "Epoch 1/5\n",
            "800/800 [==============================] - 1s 1ms/step - loss: 0.8029 - accuracy: 0.7958\n",
            "Epoch 2/5\n",
            "800/800 [==============================] - 1s 1ms/step - loss: 0.4430 - accuracy: 0.8234\n",
            "Epoch 3/5\n",
            "800/800 [==============================] - 1s 1ms/step - loss: 0.4058 - accuracy: 0.8341\n",
            "Epoch 4/5\n",
            "800/800 [==============================] - 1s 1ms/step - loss: 0.3882 - accuracy: 0.8399\n",
            "Epoch 5/5\n",
            "800/800 [==============================] - 1s 1ms/step - loss: 0.3763 - accuracy: 0.8468\n",
            "63/63 [==============================] - 0s 1000us/step - loss: 0.3725 - accuracy: 0.8415\n",
            "Epoch 1/5\n",
            "800/800 [==============================] - 1s 1ms/step - loss: 0.3677 - accuracy: 0.8465\n",
            "Epoch 2/5\n",
            "800/800 [==============================] - 1s 1ms/step - loss: 0.3613 - accuracy: 0.8518\n",
            "Epoch 3/5\n",
            "800/800 [==============================] - 1s 1ms/step - loss: 0.3573 - accuracy: 0.8541\n",
            "Epoch 4/5\n",
            "800/800 [==============================] - 1s 1ms/step - loss: 0.3538 - accuracy: 0.8553\n",
            "Epoch 5/5\n",
            "800/800 [==============================] - 1s 1ms/step - loss: 0.3528 - accuracy: 0.8547\n",
            "63/63 [==============================] - 0s 1ms/step - loss: 0.3668 - accuracy: 0.8535\n",
            "Epoch 1/5\n",
            "800/800 [==============================] - 1s 1ms/step - loss: 0.3557 - accuracy: 0.8531\n",
            "Epoch 2/5\n",
            "800/800 [==============================] - 1s 1ms/step - loss: 0.3535 - accuracy: 0.8537\n",
            "Epoch 3/5\n",
            "800/800 [==============================] - 1s 1ms/step - loss: 0.3530 - accuracy: 0.8539\n",
            "Epoch 4/5\n",
            "800/800 [==============================] - 1s 1ms/step - loss: 0.3498 - accuracy: 0.8556\n",
            "Epoch 5/5\n",
            "800/800 [==============================] - 1s 1ms/step - loss: 0.3489 - accuracy: 0.8572\n",
            "63/63 [==============================] - 0s 1ms/step - loss: 0.3414 - accuracy: 0.8580\n",
            "Epoch 1/5\n",
            "800/800 [==============================] - 1s 1ms/step - loss: 0.3414 - accuracy: 0.8605\n",
            "Epoch 2/5\n",
            "800/800 [==============================] - 1s 1ms/step - loss: 0.3408 - accuracy: 0.8595\n",
            "Epoch 3/5\n",
            "800/800 [==============================] - 1s 1ms/step - loss: 0.3401 - accuracy: 0.8605\n",
            "Epoch 4/5\n",
            "800/800 [==============================] - 1s 1ms/step - loss: 0.3385 - accuracy: 0.8584\n",
            "Epoch 5/5\n",
            "800/800 [==============================] - 1s 1ms/step - loss: 0.3385 - accuracy: 0.8610\n",
            "63/63 [==============================] - 0s 1ms/step - loss: 0.3667 - accuracy: 0.8500\n",
            "Epoch 1/5\n",
            "800/800 [==============================] - 1s 1ms/step - loss: 0.3480 - accuracy: 0.8574\n",
            "Epoch 2/5\n",
            "800/800 [==============================] - 1s 1ms/step - loss: 0.3473 - accuracy: 0.8587\n",
            "Epoch 3/5\n",
            "800/800 [==============================] - 1s 1ms/step - loss: 0.3463 - accuracy: 0.8586\n",
            "Epoch 4/5\n",
            "800/800 [==============================] - 1s 1ms/step - loss: 0.3470 - accuracy: 0.8585\n",
            "Epoch 5/5\n",
            "800/800 [==============================] - 1s 1ms/step - loss: 0.3453 - accuracy: 0.8571\n",
            "63/63 [==============================] - 0s 1ms/step - loss: 0.3327 - accuracy: 0.8595\n"
          ]
        }
      ]
    },
    {
      "cell_type": "code",
      "metadata": {
        "colab": {
          "base_uri": "https://localhost:8080/"
        },
        "id": "yws32egjqMyM",
        "outputId": "eb13ca8d-fb49-46fa-9e3a-2fa233443140"
      },
      "source": [
        "print('Accuracy use KFold Cross Validation: %.2f' % (np.mean(score_list) * 100))"
      ],
      "execution_count": 97,
      "outputs": [
        {
          "output_type": "stream",
          "name": "stdout",
          "text": [
            "Accuracy use KFold Cross Validation: 85.25\n"
          ]
        }
      ]
    }
  ]
}