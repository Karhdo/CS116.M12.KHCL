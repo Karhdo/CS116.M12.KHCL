{
  "nbformat": 4,
  "nbformat_minor": 0,
  "metadata": {
    "colab": {
      "name": "CNN_MNIST.ipynb",
      "provenance": [],
      "collapsed_sections": []
    },
    "kernelspec": {
      "name": "python3",
      "display_name": "Python 3"
    },
    "language_info": {
      "name": "python"
    },
    "accelerator": "GPU"
  },
  "cells": [
    {
      "cell_type": "markdown",
      "metadata": {
        "id": "wkZbRBLxUY23"
      },
      "source": [
        "<h1 align='center'>CNN for MNIST digit recognition</h1>\n",
        "<h1 align='center'>Đỗ Trọng Khánh - 19521676</h1>"
      ]
    },
    {
      "cell_type": "markdown",
      "metadata": {
        "id": "b8zuR5_LVNkY"
      },
      "source": [
        "# Building a CNN model"
      ]
    },
    {
      "cell_type": "code",
      "metadata": {
        "id": "dq3HTC0kzQoP"
      },
      "source": [
        "from keras.layers import Input, Dense, Conv2D, MaxPooling2D, Flatten, AveragePooling2D, Add\n",
        "from keras.models import load_model, Model\n",
        "from keras.metrics import categorical_crossentropy\n",
        "import matplotlib.pyplot as plt\n",
        "\n",
        "class MiniResNet:\n",
        "    def __init__(self):\n",
        "        self.model = None\n",
        "    def build(self, input_dim):\n",
        "        input = Input(shape = input_dim)\n",
        "        C1 = Conv2D(8, (3, 3), padding=\"same\", activation = None)(input)\n",
        "        P1 = MaxPooling2D(pool_size=(2,2), padding=\"same\", strides=(2, 2))(C1)\n",
        "\n",
        "        C2 = Conv2D(8, (3, 3), padding=\"same\", activation=\"relu\")(P1)\n",
        "        C3 = Conv2D(8, (3, 3), padding=\"same\", activation=\"relu\")(C2)\n",
        "\n",
        "        skip1 = Add()([P1, C3])\n",
        "\n",
        "        C4 = Conv2D(16, (3, 3), padding=\"same\", activation=\"relu\", strides=(2, 2))(skip1)\n",
        "\n",
        "        C5 = Conv2D(16, (3, 3), padding=\"same\", activation=\"relu\")(C4)\n",
        "        C6 = Conv2D(16, (3, 3), padding=\"same\", activation=\"relu\")(C5)\n",
        "\n",
        "        skip2 = Add()([C4, C6])\n",
        "\n",
        "        P2 = AveragePooling2D(pool_size=(2,2), padding=\"same\", strides=(1, 1))(skip2)\n",
        "\n",
        "        flat = Flatten()(P2)\n",
        "        F400 = Dense(400, activation=\"sigmoid\")(flat)\n",
        "        output = Dense(10, activation=\"softmax\")(F400)\n",
        "\n",
        "        self.model = Model(input, output)\n",
        "        self.model.compile(optimizer=\"adam\", loss=\"categorical_crossentropy\", metrics=[\"accuracy\"])\n",
        "    \n",
        "    def train(self, x_train, y_train):\n",
        "        self.model.fit(x_train, y_train, validation_split=0.2, epochs = 50, batch_size=64, verbose=1)\n",
        "    \n",
        "    def load(self, model_file):\n",
        "        self.model = load_model(model_file)\n",
        "\n",
        "    def save(self, model_file):\n",
        "        self.model.save(model_file)\n",
        "\n",
        "    def summary(self):\n",
        "        self.model.summary()\n",
        "    \n",
        "    def predict(self, x_test):\n",
        "        return self.model.predict(x_test)\n"
      ],
      "execution_count": 31,
      "outputs": []
    },
    {
      "cell_type": "markdown",
      "metadata": {
        "id": "eZDlFKgqV6Kh"
      },
      "source": [
        "# Load Dataset MNIST"
      ]
    },
    {
      "cell_type": "code",
      "metadata": {
        "colab": {
          "base_uri": "https://localhost:8080/"
        },
        "id": "T_RRJsTC_QTn",
        "outputId": "be299be4-256e-482d-f47b-a5bb7be4279b"
      },
      "source": [
        "from keras.datasets import mnist\n",
        "(x_train, y_train), (x_test, y_test) = mnist.load_data()\n",
        "\n",
        "print(x_train.shape)\n",
        "print(y_train.shape)\n",
        "print(x_test.shape)\n",
        "print(y_test.shape)"
      ],
      "execution_count": 32,
      "outputs": [
        {
          "output_type": "stream",
          "name": "stdout",
          "text": [
            "(60000, 28, 28)\n",
            "(60000,)\n",
            "(10000, 28, 28)\n",
            "(10000,)\n"
          ]
        }
      ]
    },
    {
      "cell_type": "markdown",
      "metadata": {
        "id": "QaguX__RWJrZ"
      },
      "source": [
        "# Data Normalization"
      ]
    },
    {
      "cell_type": "code",
      "metadata": {
        "id": "V5hXdeRJAATZ"
      },
      "source": [
        "import numpy as np\n",
        "\n",
        "def onehot(y):\n",
        "    oh = np.zeros((y.shape[0], 10))\n",
        "    for i in range(y.shape[0]):\n",
        "        oh[i, int(y[i])] = 1\n",
        "    return oh"
      ],
      "execution_count": 33,
      "outputs": []
    },
    {
      "cell_type": "code",
      "metadata": {
        "id": "bCgZ7gwKBWbD"
      },
      "source": [
        "from sklearn import preprocessing\n",
        "import numpy as np\n",
        "\n",
        "y_train_oh = onehot(y_train)\n",
        "y_train_oh.shape\n",
        "\n",
        "y_test_oh = onehot(y_test)\n",
        "y_test_oh.shape\n",
        "\n",
        "x_train_norm = x_train/255.0\n",
        "x_test_norm = x_test/255.0\n",
        "\n",
        "x_train_norm = x_train_norm[:,:,:,np.newaxis]\n",
        "x_test_norm = x_test_norm[:,:,:,np.newaxis]"
      ],
      "execution_count": 34,
      "outputs": []
    },
    {
      "cell_type": "markdown",
      "metadata": {
        "id": "iqI_eSv6WVfc"
      },
      "source": [
        "# Trainning and Evaluate Model"
      ]
    },
    {
      "cell_type": "code",
      "metadata": {
        "colab": {
          "base_uri": "https://localhost:8080/"
        },
        "id": "iZvw8OijC-b_",
        "outputId": "37634692-b149-47eb-b37c-f1583368ae1d"
      },
      "source": [
        "cnn = MiniResNet()\n",
        "cnn.build((28, 28, 1))\n",
        "cnn.summary()"
      ],
      "execution_count": 35,
      "outputs": [
        {
          "output_type": "stream",
          "name": "stdout",
          "text": [
            "Model: \"model_4\"\n",
            "__________________________________________________________________________________________________\n",
            " Layer (type)                   Output Shape         Param #     Connected to                     \n",
            "==================================================================================================\n",
            " input_5 (InputLayer)           [(None, 28, 28, 1)]  0           []                               \n",
            "                                                                                                  \n",
            " conv2d_24 (Conv2D)             (None, 28, 28, 8)    80          ['input_5[0][0]']                \n",
            "                                                                                                  \n",
            " max_pooling2d_4 (MaxPooling2D)  (None, 14, 14, 8)   0           ['conv2d_24[0][0]']              \n",
            "                                                                                                  \n",
            " conv2d_25 (Conv2D)             (None, 14, 14, 8)    584         ['max_pooling2d_4[0][0]']        \n",
            "                                                                                                  \n",
            " conv2d_26 (Conv2D)             (None, 14, 14, 8)    584         ['conv2d_25[0][0]']              \n",
            "                                                                                                  \n",
            " add_8 (Add)                    (None, 14, 14, 8)    0           ['max_pooling2d_4[0][0]',        \n",
            "                                                                  'conv2d_26[0][0]']              \n",
            "                                                                                                  \n",
            " conv2d_27 (Conv2D)             (None, 7, 7, 16)     1168        ['add_8[0][0]']                  \n",
            "                                                                                                  \n",
            " conv2d_28 (Conv2D)             (None, 7, 7, 16)     2320        ['conv2d_27[0][0]']              \n",
            "                                                                                                  \n",
            " conv2d_29 (Conv2D)             (None, 7, 7, 16)     2320        ['conv2d_28[0][0]']              \n",
            "                                                                                                  \n",
            " add_9 (Add)                    (None, 7, 7, 16)     0           ['conv2d_27[0][0]',              \n",
            "                                                                  'conv2d_29[0][0]']              \n",
            "                                                                                                  \n",
            " average_pooling2d_4 (AveragePo  (None, 7, 7, 16)    0           ['add_9[0][0]']                  \n",
            " oling2D)                                                                                         \n",
            "                                                                                                  \n",
            " flatten_4 (Flatten)            (None, 784)          0           ['average_pooling2d_4[0][0]']    \n",
            "                                                                                                  \n",
            " dense_8 (Dense)                (None, 400)          314000      ['flatten_4[0][0]']              \n",
            "                                                                                                  \n",
            " dense_9 (Dense)                (None, 10)           4010        ['dense_8[0][0]']                \n",
            "                                                                                                  \n",
            "==================================================================================================\n",
            "Total params: 325,066\n",
            "Trainable params: 325,066\n",
            "Non-trainable params: 0\n",
            "__________________________________________________________________________________________________\n"
          ]
        }
      ]
    },
    {
      "cell_type": "code",
      "metadata": {
        "colab": {
          "base_uri": "https://localhost:8080/"
        },
        "id": "NV7Kc2cqHVyO",
        "outputId": "0238058c-29ed-440e-a00a-b83d20f4cc2d"
      },
      "source": [
        "cnn.train(x_train_norm, y_train_oh)"
      ],
      "execution_count": 36,
      "outputs": [
        {
          "output_type": "stream",
          "name": "stdout",
          "text": [
            "Epoch 1/50\n",
            "750/750 [==============================] - 8s 10ms/step - loss: 0.2702 - accuracy: 0.9142 - val_loss: 0.1196 - val_accuracy: 0.9634\n",
            "Epoch 2/50\n",
            "750/750 [==============================] - 7s 9ms/step - loss: 0.0860 - accuracy: 0.9726 - val_loss: 0.0701 - val_accuracy: 0.9799\n",
            "Epoch 3/50\n",
            "750/750 [==============================] - 7s 9ms/step - loss: 0.0630 - accuracy: 0.9801 - val_loss: 0.0594 - val_accuracy: 0.9832\n",
            "Epoch 4/50\n",
            "750/750 [==============================] - 7s 9ms/step - loss: 0.0507 - accuracy: 0.9840 - val_loss: 0.0587 - val_accuracy: 0.9813\n",
            "Epoch 5/50\n",
            "750/750 [==============================] - 7s 10ms/step - loss: 0.0401 - accuracy: 0.9876 - val_loss: 0.0490 - val_accuracy: 0.9846\n",
            "Epoch 6/50\n",
            "750/750 [==============================] - 7s 10ms/step - loss: 0.0351 - accuracy: 0.9888 - val_loss: 0.0521 - val_accuracy: 0.9856\n",
            "Epoch 7/50\n",
            "750/750 [==============================] - 7s 10ms/step - loss: 0.0300 - accuracy: 0.9905 - val_loss: 0.0449 - val_accuracy: 0.9869\n",
            "Epoch 8/50\n",
            "750/750 [==============================] - 7s 9ms/step - loss: 0.0257 - accuracy: 0.9917 - val_loss: 0.0469 - val_accuracy: 0.9871\n",
            "Epoch 9/50\n",
            "750/750 [==============================] - 7s 9ms/step - loss: 0.0254 - accuracy: 0.9918 - val_loss: 0.0475 - val_accuracy: 0.9868\n",
            "Epoch 10/50\n",
            "750/750 [==============================] - 7s 10ms/step - loss: 0.0192 - accuracy: 0.9936 - val_loss: 0.0504 - val_accuracy: 0.9854\n",
            "Epoch 11/50\n",
            "750/750 [==============================] - 7s 10ms/step - loss: 0.0200 - accuracy: 0.9933 - val_loss: 0.0467 - val_accuracy: 0.9866\n",
            "Epoch 12/50\n",
            "750/750 [==============================] - 7s 9ms/step - loss: 0.0162 - accuracy: 0.9947 - val_loss: 0.0391 - val_accuracy: 0.9893\n",
            "Epoch 13/50\n",
            "750/750 [==============================] - 7s 10ms/step - loss: 0.0162 - accuracy: 0.9947 - val_loss: 0.0492 - val_accuracy: 0.9849\n",
            "Epoch 14/50\n",
            "750/750 [==============================] - 7s 9ms/step - loss: 0.0147 - accuracy: 0.9952 - val_loss: 0.0416 - val_accuracy: 0.9883\n",
            "Epoch 15/50\n",
            "750/750 [==============================] - 7s 10ms/step - loss: 0.0116 - accuracy: 0.9963 - val_loss: 0.0570 - val_accuracy: 0.9832\n",
            "Epoch 16/50\n",
            "750/750 [==============================] - 7s 9ms/step - loss: 0.0125 - accuracy: 0.9964 - val_loss: 0.0427 - val_accuracy: 0.9885\n",
            "Epoch 17/50\n",
            "750/750 [==============================] - 7s 10ms/step - loss: 0.0119 - accuracy: 0.9961 - val_loss: 0.0405 - val_accuracy: 0.9896\n",
            "Epoch 18/50\n",
            "750/750 [==============================] - 7s 10ms/step - loss: 0.0099 - accuracy: 0.9965 - val_loss: 0.0401 - val_accuracy: 0.9888\n",
            "Epoch 19/50\n",
            "750/750 [==============================] - 7s 9ms/step - loss: 0.0091 - accuracy: 0.9970 - val_loss: 0.0434 - val_accuracy: 0.9882\n",
            "Epoch 20/50\n",
            "750/750 [==============================] - 7s 10ms/step - loss: 0.0096 - accuracy: 0.9969 - val_loss: 0.0478 - val_accuracy: 0.9871\n",
            "Epoch 21/50\n",
            "750/750 [==============================] - 7s 10ms/step - loss: 0.0080 - accuracy: 0.9974 - val_loss: 0.0396 - val_accuracy: 0.9886\n",
            "Epoch 22/50\n",
            "750/750 [==============================] - 7s 9ms/step - loss: 0.0079 - accuracy: 0.9973 - val_loss: 0.0423 - val_accuracy: 0.9888\n",
            "Epoch 23/50\n",
            "750/750 [==============================] - 7s 9ms/step - loss: 0.0071 - accuracy: 0.9977 - val_loss: 0.0388 - val_accuracy: 0.9894\n",
            "Epoch 24/50\n",
            "750/750 [==============================] - 7s 10ms/step - loss: 0.0044 - accuracy: 0.9988 - val_loss: 0.0478 - val_accuracy: 0.9879\n",
            "Epoch 25/50\n",
            "750/750 [==============================] - 7s 10ms/step - loss: 0.0076 - accuracy: 0.9975 - val_loss: 0.0386 - val_accuracy: 0.9898\n",
            "Epoch 26/50\n",
            "750/750 [==============================] - 7s 9ms/step - loss: 0.0078 - accuracy: 0.9974 - val_loss: 0.0420 - val_accuracy: 0.9885\n",
            "Epoch 27/50\n",
            "750/750 [==============================] - 7s 10ms/step - loss: 0.0075 - accuracy: 0.9974 - val_loss: 0.0407 - val_accuracy: 0.9895\n",
            "Epoch 28/50\n",
            "750/750 [==============================] - 7s 10ms/step - loss: 0.0064 - accuracy: 0.9979 - val_loss: 0.0436 - val_accuracy: 0.9893\n",
            "Epoch 29/50\n",
            "750/750 [==============================] - 7s 10ms/step - loss: 0.0070 - accuracy: 0.9979 - val_loss: 0.0451 - val_accuracy: 0.9887\n",
            "Epoch 30/50\n",
            "750/750 [==============================] - 7s 10ms/step - loss: 0.0058 - accuracy: 0.9979 - val_loss: 0.0439 - val_accuracy: 0.9894\n",
            "Epoch 31/50\n",
            "750/750 [==============================] - 7s 9ms/step - loss: 0.0032 - accuracy: 0.9990 - val_loss: 0.0438 - val_accuracy: 0.9893\n",
            "Epoch 32/50\n",
            "750/750 [==============================] - 7s 9ms/step - loss: 0.0048 - accuracy: 0.9984 - val_loss: 0.0487 - val_accuracy: 0.9872\n",
            "Epoch 33/50\n",
            "750/750 [==============================] - 7s 10ms/step - loss: 0.0086 - accuracy: 0.9970 - val_loss: 0.0461 - val_accuracy: 0.9875\n",
            "Epoch 34/50\n",
            "750/750 [==============================] - 7s 10ms/step - loss: 0.0033 - accuracy: 0.9991 - val_loss: 0.0453 - val_accuracy: 0.9883\n",
            "Epoch 35/50\n",
            "750/750 [==============================] - 7s 9ms/step - loss: 0.0040 - accuracy: 0.9987 - val_loss: 0.0507 - val_accuracy: 0.9871\n",
            "Epoch 36/50\n",
            "750/750 [==============================] - 7s 9ms/step - loss: 0.0063 - accuracy: 0.9979 - val_loss: 0.0570 - val_accuracy: 0.9872\n",
            "Epoch 37/50\n",
            "750/750 [==============================] - 7s 10ms/step - loss: 0.0066 - accuracy: 0.9979 - val_loss: 0.0558 - val_accuracy: 0.9872\n",
            "Epoch 38/50\n",
            "750/750 [==============================] - 7s 9ms/step - loss: 0.0043 - accuracy: 0.9985 - val_loss: 0.0459 - val_accuracy: 0.9895\n",
            "Epoch 39/50\n",
            "750/750 [==============================] - 7s 10ms/step - loss: 0.0045 - accuracy: 0.9986 - val_loss: 0.0516 - val_accuracy: 0.9882\n",
            "Epoch 40/50\n",
            "750/750 [==============================] - 7s 10ms/step - loss: 0.0038 - accuracy: 0.9990 - val_loss: 0.0492 - val_accuracy: 0.9898\n",
            "Epoch 41/50\n",
            "750/750 [==============================] - 7s 10ms/step - loss: 0.0050 - accuracy: 0.9985 - val_loss: 0.0501 - val_accuracy: 0.9884\n",
            "Epoch 42/50\n",
            "750/750 [==============================] - 7s 10ms/step - loss: 0.0073 - accuracy: 0.9975 - val_loss: 0.0509 - val_accuracy: 0.9888\n",
            "Epoch 43/50\n",
            "750/750 [==============================] - 7s 9ms/step - loss: 0.0056 - accuracy: 0.9980 - val_loss: 0.0540 - val_accuracy: 0.9882\n",
            "Epoch 44/50\n",
            "750/750 [==============================] - 7s 9ms/step - loss: 0.0050 - accuracy: 0.9983 - val_loss: 0.0489 - val_accuracy: 0.9885\n",
            "Epoch 45/50\n",
            "750/750 [==============================] - 7s 10ms/step - loss: 0.0024 - accuracy: 0.9993 - val_loss: 0.0480 - val_accuracy: 0.9887\n",
            "Epoch 46/50\n",
            "750/750 [==============================] - 8s 10ms/step - loss: 0.0063 - accuracy: 0.9976 - val_loss: 0.0436 - val_accuracy: 0.9908\n",
            "Epoch 47/50\n",
            "750/750 [==============================] - 8s 10ms/step - loss: 0.0038 - accuracy: 0.9989 - val_loss: 0.0535 - val_accuracy: 0.9874\n",
            "Epoch 48/50\n",
            "750/750 [==============================] - 7s 9ms/step - loss: 0.0053 - accuracy: 0.9981 - val_loss: 0.0495 - val_accuracy: 0.9891\n",
            "Epoch 49/50\n",
            "750/750 [==============================] - 7s 10ms/step - loss: 0.0033 - accuracy: 0.9991 - val_loss: 0.0591 - val_accuracy: 0.9877\n",
            "Epoch 50/50\n",
            "750/750 [==============================] - 7s 9ms/step - loss: 0.0030 - accuracy: 0.9990 - val_loss: 0.0510 - val_accuracy: 0.9898\n"
          ]
        }
      ]
    },
    {
      "cell_type": "code",
      "metadata": {
        "id": "KSZOp3ci4syD"
      },
      "source": [
        "pred = cnn.predict(x_test_norm)"
      ],
      "execution_count": 37,
      "outputs": []
    },
    {
      "cell_type": "code",
      "metadata": {
        "colab": {
          "base_uri": "https://localhost:8080/",
          "height": 877
        },
        "id": "DOCIGxdnn7ic",
        "outputId": "e1e75cc5-9295-4e5b-ebd8-01517ac8fc5f"
      },
      "source": [
        "plt.figure(figsize=(15,15))\n",
        "plt.subplots_adjust(hspace=0.3, wspace=0.3)\n",
        "for i in range(16):\n",
        "    plt.subplot(4, 4, i + 1)\n",
        "    label_pred = \"Predicted label: \" + str(np.argmax(pred[i])) + \", Truth label: \" + str(y_test[i])\n",
        "    plt.title(label_pred, fontsize=10)\n",
        "    plt.imshow(x_test[i])"
      ],
      "execution_count": 38,
      "outputs": [
        {
          "output_type": "display_data",
          "data": {
            "image/png": "[encoded data removed]",
            "text/plain": [
              "<Figure size 1080x1080 with 16 Axes>"
            ]
          },
          "metadata": {
            "needs_background": "light"
          }
        }
      ]
    }
  ]
}